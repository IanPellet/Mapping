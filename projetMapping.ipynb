{
 "cells": [
  {
   "cell_type": "markdown",
   "metadata": {},
   "source": [
    "# Projet Mapping"
   ]
  },
  {
   "cell_type": "code",
   "execution_count": 2,
   "metadata": {
    "scrolled": true
   },
   "outputs": [],
   "source": [
    "#!pip install biopython\n",
    "from Bio import SeqIO # manipuler les fichiers fasta et fastq\n",
    "from Bio.Seq import Seq\n",
    "from Bio.SeqRecord import SeqRecord\n",
    "import numpy as np\n",
    "import sys\n",
    "import matplotlib.pyplot as plt\n",
    "import seaborn as sns"
   ]
  },
  {
   "cell_type": "markdown",
   "metadata": {},
   "source": [
    "## Lecture des données"
   ]
  },
  {
   "cell_type": "markdown",
   "metadata": {},
   "source": [
    "On dispose de la séquence du génome de Plasmodium falciparum sur 14 chromosomes."
   ]
  },
  {
   "cell_type": "code",
   "execution_count": 3,
   "metadata": {},
   "outputs": [],
   "source": [
    "Genome = list(SeqIO.parse('data','fasta'))"
   ]
  },
  {
   "cell_type": "code",
   "execution_count": 4,
   "metadata": {},
   "outputs": [
    {
     "name": "stdout",
     "output_type": "stream",
     "text": [
      "TGAACCCTaaaacctaaaccctaaaccctaaaccctgaaccctaaaccctgaaccctaaaccctaaaccctgaaccctaaaccctaaaccctgaacccta\n",
      "Chromosome 1 length : 640851\n",
      "Chromosome 2 length : 947102\n",
      "Chromosome 14 length : 3291936\n"
     ]
    }
   ],
   "source": [
    "print(str(Genome[0].seq)[:100])\n",
    "print('Chromosome 1 length :',len(Genome[0].seq))\n",
    "print('Chromosome 2 length :',len(Genome[1].seq))\n",
    "print('Chromosome 14 length :',len(Genome[13].seq))"
   ]
  },
  {
   "cell_type": "code",
   "execution_count": 5,
   "metadata": {},
   "outputs": [],
   "source": [
    "reads = []  \n",
    "for record in SeqIO.parse(\"single_Pfal_dat.fq\", \"fastq\"):\n",
    "    reads.append(record)"
   ]
  },
  {
   "cell_type": "code",
   "execution_count": 6,
   "metadata": {},
   "outputs": [
    {
     "name": "stdout",
     "output_type": "stream",
     "text": [
      "AATTAATAATTATTATTATTACATATATATTTGTTATGTTTTGTTATATAATATTTAATATGAAGTATTATATAAATATATATATATATGTGTGCCATGT\n",
      "Reads length : 100\n",
      "Number of reads : 1500000\n"
     ]
    }
   ],
   "source": [
    "print(str(reads[3].seq))\n",
    "print('Reads length :',len(reads[2].seq))\n",
    "print('Number of reads :',len(reads))"
   ]
  },
  {
   "cell_type": "markdown",
   "metadata": {},
   "source": [
    "## Implémentation des fonctions"
   ]
  },
  {
   "cell_type": "code",
   "execution_count": 7,
   "metadata": {},
   "outputs": [],
   "source": [
    "def complementInverse(w):\n",
    "    wCI = []\n",
    "    for i in range(len(w)):\n",
    "        li = w[-i-1]\n",
    "        if li not in \"ATCG\":\n",
    "            raise Exception(\"Letter not in alphabet\")\n",
    "        lCI = 'A'*int(li=='T') + 'T'*int(li=='A') + 'C'*int(li=='G') + 'G'*int(li=='C')\n",
    "        wCI.append(lCI)\n",
    "    return ''.join(wCI)"
   ]
  },
  {
   "cell_type": "code",
   "execution_count": 8,
   "metadata": {},
   "outputs": [],
   "source": [
    "# Test fonction complementInverse\n",
    "\n",
    "testWord = \"ATCG\"\n",
    "ansWord = \"CGAT\"\n",
    "ans = complementInverse(testWord)\n",
    "if complementInverse(testWord) != ansWord:\n",
    "    raise Exception(\"Wrong result\")"
   ]
  },
  {
   "cell_type": "code",
   "execution_count": 9,
   "metadata": {},
   "outputs": [],
   "source": [
    "def circularShift(T,k):\n",
    "    if k<0:\n",
    "        raise Exception(\"k must be positive\")\n",
    "    return T[k:]+T[0:k]\n",
    "\n",
    "def BWT(S):\n",
    "    if S[len(S)-1]!='$':\n",
    "        S += '$'\n",
    "        \n",
    "    circShifts = []\n",
    "    for k in range(len(S)):\n",
    "        circShifts.append(circularShift(S,k))\n",
    "    circShifts.sort()\n",
    "    \n",
    "    bwt = []\n",
    "    for shift in circShifts:\n",
    "        bwt.append(shift[len(S)-1])\n",
    "        \n",
    "    return bwt"
   ]
  },
  {
   "cell_type": "code",
   "execution_count": 10,
   "metadata": {},
   "outputs": [
    {
     "data": {
      "text/plain": [
       "['G', 'G', '$', 'G', 'T', 'C', 'C', 'T', 'T', 'A', 'C', 'A']"
      ]
     },
     "execution_count": 10,
     "metadata": {},
     "output_type": "execute_result"
    }
   ],
   "source": [
    "# Test fonction BWT\n",
    "\n",
    "testText = \"ATGCCTGATCG\"\n",
    "testTextBWT = BWT(testText)\n",
    "testTextBWT"
   ]
  },
  {
   "cell_type": "code",
   "execution_count": 11,
   "metadata": {},
   "outputs": [],
   "source": [
    "def suffix_list(T): # O(n log n)\n",
    "    \"\"\"\n",
    "    Compute the suffix list\n",
    "    \n",
    "    Args:\n",
    "        T (str): string\n",
    "    \n",
    "    Return:\n",
    "        list of strings: suffix list\n",
    "    \"\"\"\n",
    "    suffix_list = [T[i:] for i in range(len(T))] # O(n)\n",
    "    sorted(suffix_list,reverse=True) # O(n log n)\n",
    "    return suffix_list\n",
    "\n",
    "def suffix_table(T): # O(n log n)\n",
    "    \"\"\"\n",
    "    Compute the suffix table\n",
    "    \n",
    "    Args:\n",
    "        T (str): string\n",
    "    \n",
    "    Return:\n",
    "        list of tuples (suffix,location): suffix table\n",
    "    \"\"\"\n",
    "    suffix_list = [T[i:] for i in range(len(T))] \n",
    "    suffix_table = sorted((e,i) for i,e in enumerate(suffix_list))\n",
    "    return suffix_table\n",
    "\n",
    "def BWT_suffix_table(T,end_of_string=\"$\"): # O(n log n)\n",
    "    \"\"\"\n",
    "    Compute the BWT from the suffix table\n",
    "    \n",
    "    Args:\n",
    "        T (str): string\n",
    "        end_of_string (char): end of string character to append\n",
    "    \n",
    "    Return:\n",
    "        bwt (str): BWT\n",
    "    \"\"\"\n",
    "    if T[-1]!=end_of_string :\n",
    "        T += end_of_string\n",
    "    ST = suffix_table(T) # O(n log n)\n",
    "    bwt = \"\"\n",
    "    index = []\n",
    "    for s,i in ST: # O(n)\n",
    "        bwt += T[i-1]\n",
    "        index.append(i-1)\n",
    "    return bwt, index"
   ]
  },
  {
   "cell_type": "markdown",
   "metadata": {},
   "source": [
    "Let `n` the size of `T`.\n",
    "\n",
    "Complexity of `suffix_list(T)` :"
   ]
  },
  {
   "cell_type": "code",
   "execution_count": 12,
   "metadata": {},
   "outputs": [
    {
     "data": {
      "text/plain": [
       "['ATGCCTGATCG',\n",
       " 'TGCCTGATCG',\n",
       " 'GCCTGATCG',\n",
       " 'CCTGATCG',\n",
       " 'CTGATCG',\n",
       " 'TGATCG',\n",
       " 'GATCG',\n",
       " 'ATCG',\n",
       " 'TCG',\n",
       " 'CG',\n",
       " 'G']"
      ]
     },
     "execution_count": 12,
     "metadata": {},
     "output_type": "execute_result"
    }
   ],
   "source": [
    "# Test fonction suffix_list\n",
    "\n",
    "suffix_list(testText)"
   ]
  },
  {
   "cell_type": "code",
   "execution_count": 13,
   "metadata": {},
   "outputs": [
    {
     "data": {
      "text/plain": [
       "[('ATCG', 7),\n",
       " ('ATGCCTGATCG', 0),\n",
       " ('CCTGATCG', 3),\n",
       " ('CG', 9),\n",
       " ('CTGATCG', 4),\n",
       " ('G', 10),\n",
       " ('GATCG', 6),\n",
       " ('GCCTGATCG', 2),\n",
       " ('TCG', 8),\n",
       " ('TGATCG', 5),\n",
       " ('TGCCTGATCG', 1)]"
      ]
     },
     "execution_count": 13,
     "metadata": {},
     "output_type": "execute_result"
    }
   ],
   "source": [
    "# Test fonction suffix_table\n",
    "\n",
    "suffix_table(testText)"
   ]
  },
  {
   "cell_type": "code",
   "execution_count": 14,
   "metadata": {},
   "outputs": [
    {
     "data": {
      "text/plain": [
       "('GG$GTCCTTACA', [10, 6, -1, 2, 8, 3, 9, 5, 1, 7, 4, 0])"
      ]
     },
     "execution_count": 14,
     "metadata": {},
     "output_type": "execute_result"
    }
   ],
   "source": [
    "# Test fonction BWT_suffix_table\n",
    "\n",
    "BWT_suffix_table(testText)"
   ]
  },
  {
   "cell_type": "code",
   "execution_count": 15,
   "metadata": {},
   "outputs": [],
   "source": [
    "from collections import Counter \n",
    "\n",
    "def occurrence_indexer(S):\n",
    "    \"\"\"\n",
    "    Number of past occurrences of each char in S\n",
    "    \n",
    "    Args:\n",
    "        S (str): string\n",
    "        \n",
    "    Return:\n",
    "        table of int : number of past occurrences of the char\n",
    "    \"\"\"\n",
    "    K = []\n",
    "    last_index = {}\n",
    "    for s in S:\n",
    "        if s not in last_index: \n",
    "            last_index[s] = 0\n",
    "        K.append(last_index[s])\n",
    "        last_index[s] += 1\n",
    "    return(K)\n",
    "\n",
    "def last2first(counts,k,X):\n",
    "    \"\"\"\n",
    "    k + nbr of occurrences of letters < X \n",
    "    \n",
    "    Args:\n",
    "        counts (Counter): nbr of each char in the text\n",
    "        k : int\n",
    "        X : char\n",
    "        \n",
    "    Return:\n",
    "        int : k + nbr of occurrences of letters < X \n",
    "    \"\"\"\n",
    "    a = [counts[char] for char in counts if char < X]\n",
    "    return k + sum(a)\n",
    "    \n",
    "def efficient_inverse_BWT(bwt,end_of_string=\"$\"):\n",
    "    \"\"\"\n",
    "    Inverse the BWT\n",
    "    \n",
    "    Args:\n",
    "        bwt (str): bwt of a string T\n",
    "        last_character (char): which is the end of string character?\n",
    "    \n",
    "    Return:\n",
    "        T (str): BWT^{-1} of bwt\n",
    "    \"\"\"    \n",
    "    K = occurrence_indexer(bwt)\n",
    "    counts = Counter(bwt)\n",
    "    X = bwt[0]\n",
    "    k = K[0]\n",
    "    S = end_of_string\n",
    "    while X != end_of_string:\n",
    "        S = X+S\n",
    "        j = last2first(counts,k,X)\n",
    "        X = bwt[j]\n",
    "        k = K[j]\n",
    "    return(S)"
   ]
  },
  {
   "cell_type": "code",
   "execution_count": 16,
   "metadata": {},
   "outputs": [
    {
     "data": {
      "text/plain": [
       "[0, 0, 0, 0, 1, 1, 1, 1, 2, 2, 2]"
      ]
     },
     "execution_count": 16,
     "metadata": {},
     "output_type": "execute_result"
    }
   ],
   "source": [
    "# Test fonction occurrence_indexer\n",
    "\n",
    "occurrence_indexer(testText)"
   ]
  },
  {
   "cell_type": "code",
   "execution_count": 17,
   "metadata": {},
   "outputs": [
    {
     "name": "stdout",
     "output_type": "stream",
     "text": [
      "ATGCCTGATCG\n"
     ]
    },
    {
     "data": {
      "text/plain": [
       "8"
      ]
     },
     "execution_count": 17,
     "metadata": {},
     "output_type": "execute_result"
    }
   ],
   "source": [
    "# Test fonction last2first\n",
    "\n",
    "print(testText)\n",
    "last2first(Counter(testText),0,\"T\")"
   ]
  },
  {
   "cell_type": "code",
   "execution_count": 18,
   "metadata": {},
   "outputs": [],
   "source": [
    "#efficient_inverse_BWT(BWT_suffix_table(testText)) == testText + \"$\""
   ]
  },
  {
   "cell_type": "code",
   "execution_count": 19,
   "metadata": {},
   "outputs": [],
   "source": [
    "  def get_first_occurrence(L,X):\n",
    "    for i,l in enumerate(L):\n",
    "        if l == X:\n",
    "            return(i)\n",
    "        \n",
    "def pattern_matching_BWT(T,pattern):\n",
    "    \"\"\"\n",
    "    Search a patter in a String using the BWT\n",
    "    \n",
    "    Args:\n",
    "        S (str): string\n",
    "        pattern (str): pattern\n",
    "    \n",
    "    Return:\n",
    "        bool: true if the pattern is in the string    \n",
    "    \"\"\"\n",
    "    L,_ = BWT_suffix_table(T)\n",
    "    K = occurrence_indexer(L)\n",
    "    counts = Counter(L)\n",
    "    e = 0\n",
    "    f = len(L)\n",
    "    i = len(pattern) - 1\n",
    "    while e < f and i >= 0:\n",
    "        X = pattern[i]\n",
    "        first_occurence_in_L_ef = get_first_occurrence(L[e:f],X)\n",
    "        if first_occurence_in_L_ef is None:\n",
    "            return False\n",
    "        else:\n",
    "            r = first_occurence_in_L_ef+e\n",
    "        #print(first_occurence_in_L_ef,L[e:f],r,X,L[r])\n",
    "        \n",
    "        last_occurence_in_L_ef = get_first_occurrence(L[e:f][::-1],X)\n",
    "        if last_occurence_in_L_ef is None:\n",
    "            return False\n",
    "        else:\n",
    "            s = f-last_occurence_in_L_ef-1\n",
    "        #print(last_occurence_in_L_ef,L[e:f],s,X,L[s])\n",
    "        \n",
    "        e = last2first(counts,K[r],X)\n",
    "        f = last2first(counts,K[s],X)+1\n",
    "        i -= 1\n",
    "        #print(r,s,e,f)\n",
    "    return(i<0)"
   ]
  },
  {
   "cell_type": "code",
   "execution_count": 20,
   "metadata": {},
   "outputs": [],
   "source": [
    "def rankBWT(bwt):\n",
    "    \"\"\"\n",
    "    Number of past occurrences of each char in S\n",
    "    \n",
    "    Args:\n",
    "        S (str): string\n",
    "        \n",
    "    Return:\n",
    "        table of int : number of past occurrences of the char\n",
    "    \"\"\"\n",
    "    K = []\n",
    "    tot = {}\n",
    "    for s in bwt:\n",
    "        if s not in tot: \n",
    "            tot[s] = 0\n",
    "        K.append(tot[s])\n",
    "        tot[s] += 1\n",
    "    return(K,tot)\n",
    "    "
   ]
  },
  {
   "cell_type": "code",
   "execution_count": 21,
   "metadata": {},
   "outputs": [],
   "source": [
    "def invBWT(bwt,A):\n",
    "    A = sorted(A)\n",
    "    #count = {a:0 for a in A}\n",
    "    count = {}\n",
    "    K = []\n",
    "    for i in range(len(bwt)):\n",
    "        if bwt[i] in count:\n",
    "            count[bwt[i]] += 1\n",
    "        else:\n",
    "            count[bwt[i]] = 1\n",
    "        K.append(count[bwt[i]])\n",
    "    X = bwt[0]\n",
    "    k = K[1]\n",
    "    S = '$'\n",
    "    while X != '$':\n",
    "        S = X+S\n",
    "        j = k\n",
    "        i = 0\n",
    "        while A[i] != X:\n",
    "            j += count[A[i]]\n",
    "            i += 1\n",
    "        X = bwt[j]\n",
    "        k = K[j]\n",
    "    return S"
   ]
  },
  {
   "cell_type": "code",
   "execution_count": 22,
   "metadata": {},
   "outputs": [],
   "source": [
    "def firstColMap(tots):\n",
    "    \"\"\" Return a map from characters to the range of cells in the first\n",
    "    column containing the character. \n",
    "    char : (first index, last index+1)\"\"\"\n",
    "    first = {}\n",
    "    totc = 0\n",
    "    for c, count in sorted(tots.items()):\n",
    "        first[c] = (totc, totc + count)\n",
    "        totc += count\n",
    "    return first"
   ]
  },
  {
   "cell_type": "code",
   "execution_count": 23,
   "metadata": {},
   "outputs": [],
   "source": [
    "def getKmers(read, k):\n",
    "    read = str(read)\n",
    "    kmers = []\n",
    "    iF = 0\n",
    "    iL = iF + k\n",
    "\n",
    "    Continuer = True\n",
    "\n",
    "    while Continuer:\n",
    "        if iL >= len(read):\n",
    "            Continuer = False\n",
    "            iL = len(read)\n",
    "        kmers.append(read[iF:iL])\n",
    "        iF +=1\n",
    "        iL = iF + k\n",
    "        if Continuer and iF >= len(read):\n",
    "            Continuer = False\n",
    "            \n",
    "    return kmers"
   ]
  },
  {
   "cell_type": "code",
   "execution_count": 32,
   "metadata": {},
   "outputs": [],
   "source": [
    "def cutSequence(seqToCut, n, k):\n",
    "    cutSeq = []\n",
    "    iF = 0\n",
    "    iL = iF + n\n",
    "\n",
    "    Continuer = True\n",
    "\n",
    "    while Continuer:\n",
    "        if iL >= len(seqToCut):\n",
    "            Continuer = False\n",
    "            iL = len(seqToCut)\n",
    "        cutSeq.append(seqToCut[iF:iL])\n",
    "        iF += n - k\n",
    "        iL = iF + n -1\n",
    "        if Continuer and len(seqToCut) - iF <= k :\n",
    "            Continuer = False\n",
    "            \n",
    "    return cutSeq"
   ]
  },
  {
   "cell_type": "code",
   "execution_count": 25,
   "metadata": {},
   "outputs": [],
   "source": [
    "def searching(bwt, SAT, W):\n",
    "\n",
    "    # Not case sensitive, make everything uppercase\n",
    "    bwt = bwt.upper()\n",
    "    W = W.upper()\n",
    "    \n",
    "    # Perdorm a BWT on text T and get the indexes corresponding to the Suffix Array of T\n",
    "    #bwt, SAT = BWT_suffix_table(T)\n",
    "    # LF mapping\n",
    "    # F = sorted(bwt) # no need to store it\n",
    "    rank, totCount = rankBWT(bwt)\n",
    "    Fmap = firstColMap(totCount)\n",
    "    del totCount\n",
    "\n",
    "    \n",
    "    #print('\\nbwt :', sys.getsizeof(bwt),\n",
    "    #'\\nSAT :', sys.getsizeof(SAT),\n",
    "    #'\\nrank :', sys.getsizeof(rank),\n",
    "    #'\\nFmap :', sys.getsizeof(Fmap),)\n",
    "\n",
    "    letter = W[-1] # last letter of the word W\n",
    "    if letter not in Fmap:\n",
    "        return -1, \"Word not in text\"\n",
    "    fi, li = Fmap[letter] # find occurences of letter in F\n",
    "    \n",
    "    for i in range(2,len(W)+1):\n",
    "        letter = W[-i] # search W by going backward through it\n",
    "        if letter not in Fmap:\n",
    "            return -1, \"Word not in text\"\n",
    "\n",
    "        j = fi\n",
    "        foundRankf = False\n",
    "        while j < li:\n",
    "            if bwt[j] == letter:\n",
    "                if not foundRankf:\n",
    "                    rankf = rank[j] # get the rank of the first occurence of letter (followed by W suffix)\n",
    "                    foundRankf = True\n",
    "                rankl = rank[j] # get the rank of the last occurence of letter (followed by W suffix)\n",
    "            j += 1\n",
    "        \n",
    "        if not foundRankf:\n",
    "            return -1, \"Word not in text\"\n",
    "        \n",
    "        fi, li = Fmap[letter] # find occurences of letter in F\n",
    "        fi += rankf # find first occurence of letter in F (followed by W suffix)\n",
    "        li = fi + rankl-rankf +1 # find last occurence of letter in F (followed by W suffix)\n",
    "\n",
    "    return [x+1 for x in SAT[fi:li]]\n",
    "    "
   ]
  },
  {
   "cell_type": "code",
   "execution_count": 26,
   "metadata": {},
   "outputs": [],
   "source": [
    "def searchWord(cutSeq, n, k, words):\n",
    "\n",
    "    bwtSeq = []\n",
    "    satSeq = []\n",
    "    for s in cutSeq:\n",
    "        bwt, sat = BWT_suffix_table(s)\n",
    "        bwtSeq.append(bwt)\n",
    "        satSeq.append(sat)\n",
    "\n",
    "    foundRead = []\n",
    "    for i in range(len(cutSeq)):\n",
    "        res = searching(bwtSeq[i], satSeq[i], words)\n",
    "        if res[0] != -1 :\n",
    "            resi = [x+i*(n-k) for x in res]\n",
    "            foundRead += resi\n",
    "\n",
    "    return np.unique(foundRead)"
   ]
  },
  {
   "cell_type": "code",
   "execution_count": 27,
   "metadata": {},
   "outputs": [],
   "source": [
    "def GenomeBWT(genome):\n",
    "    bwtGen = []\n",
    "    satGen = []\n",
    "    \n",
    "    wholeGenomeCutted = []\n",
    "    n = int(1e4)\n",
    "    overlap = 100\n",
    "    for i in range(len(Genome)):\n",
    "        chromosome = Genome[i].seq.upper()\n",
    "        cutChr = cutSequence(chromosome, n, overlap)\n",
    "        wholeGenomeCutted.append(cutChr)\n",
    "        \n",
    "    for c in range(len(genome)):\n",
    "        print('chr',c)\n",
    "        chromosome = wholeGenomeCutted[c]\n",
    "        bwtChr = []\n",
    "        satChr = []\n",
    "        for seq in chromosome:\n",
    "            bwt, sat = BWT_suffix_table(seq)\n",
    "            bwtChr.append(bwt)\n",
    "            satChr.append(sat)\n",
    "        bwtGen.append(bwtChr)\n",
    "        satGen.append(satChr)\n",
    "    return (bwtGen,satGen)"
   ]
  },
  {
   "cell_type": "code",
   "execution_count": null,
   "metadata": {},
   "outputs": [],
   "source": [
    "def searchChr(bwtChr,satChr, word):\n",
    "    n = int(1e4)\n",
    "    overlap = 100\n",
    "\n",
    "    foundRead = []\n",
    "    for i in range(len(bwtChr)):\n",
    "        res = searching(bwtChr[i], satChr[i], word)\n",
    "        if res[0] != -1 :\n",
    "            resi = [x+i*(n-overlap) for x in res]\n",
    "            foundRead += resi\n",
    "\n",
    "    return np.unique(foundRead)"
   ]
  },
  {
   "cell_type": "code",
   "execution_count": null,
   "metadata": {},
   "outputs": [],
   "source": [
    "def searchGen(bwtGen,satGen, word):\n",
    "   \n",
    "    foundGen = {}\n",
    "    for i in range(len(bwtGen)):\n",
    "        foundChr = searchChr(bwtGen[i],satGen[i], word)\n",
    "        foundGen[i] = foundChr\n",
    "        \n",
    "    return foundGen"
   ]
  },
  {
   "cell_type": "code",
   "execution_count": null,
   "metadata": {},
   "outputs": [],
   "source": [
    "def extension(Genome,Chr,lRead,iChr,iRead,margin):\n",
    "    iStart_ = iChr-iRead\n",
    "    iStop_ = iStart_+lRead\n",
    "    iStart = iStart_-margin\n",
    "    iStop = iStop_+margin\n",
    "    \n",
    "    ext = str(Genome[Chr].seq[iStart:iStop]).upper()\n",
    "    return (ext,iStart,iStop)"
   ]
  },
  {
   "cell_type": "code",
   "execution_count": null,
   "metadata": {},
   "outputs": [],
   "source": [
    "def SWmatrix2strings(S,T,D,F):\n",
    "    \"\"\"\n",
    "    Smith-Waterman matrix to aligned strings\n",
    "\n",
    "    Args:\n",
    "        S (str): first string\n",
    "        T (str): second string\n",
    "        D (np.array or list of lists): Decision matrix\n",
    "\n",
    "    Returns:\n",
    "        S_aligned (str): first string aligned\n",
    "        T_aligned (str): second string aligned\n",
    "        \n",
    "    \"\"\"    \n",
    "    S_WITH_GAP = -1\n",
    "    T_WITH_GAP = 1\n",
    "    S_T_ALIGN = 0\n",
    "    i,j = np.unravel_index(F.argmax(),F.shape)\n",
    "    end = (i,j)\n",
    "    S_aligned = \"\"\n",
    "    T_aligned = \"\"\n",
    "    while i > 0 and j > 0:\n",
    "        #print(i,j,T[j-1],S[i-1],D[i,j])\n",
    "        #print(S_aligned,T_aligned)\n",
    "        #print(S[i-1], S_aligned)\n",
    "        if D[i,j] == S_WITH_GAP:\n",
    "            S_aligned = S[i-1]+S_aligned\n",
    "            T_aligned = \"_\"+T_aligned\n",
    "            #print(S_aligned,T_aligned)\n",
    "            i -= 1\n",
    "        elif D[i,j] == T_WITH_GAP:\n",
    "            T_aligned = T[j-1]+ T_aligned\n",
    "            S_aligned = \"_\"+S_aligned\n",
    "            #print(S_aligned,T_aligned)\n",
    "            j -= 1\n",
    "        elif D[i,j] == S_T_ALIGN:\n",
    "            S_aligned = S[i-1] + S_aligned\n",
    "            T_aligned = T[j-1] + T_aligned\n",
    "            #print(S_aligned,T_aligned)\n",
    "            j -= 1\n",
    "            i -= 1\n",
    "        #elif D[i,j] == NO_ALIGN:\n",
    "        else:\n",
    "            break\n",
    "    start = (i,j)\n",
    "    return(S_aligned,T_aligned,start,end)\n",
    "\n",
    "def Smith_Waterman(S,T,return_matrix=False):\n",
    "    \"\"\"\n",
    "    Needleman-Wunch \n",
    "\n",
    "    Args:\n",
    "        S (str): first string\n",
    "        T (str): second string\n",
    "        return_matrix (bool): If true return matrix, else return the aligned strings\n",
    "\n",
    "    Returns:\n",
    "        F,D (np.array, np.array): If return_matrix is true F is the score matrix and D the decision matrix\n",
    "        S_aligned, T_aligned (str,str): If return_matrix is false first and second strings aligned\n",
    "        \n",
    "    \"\"\"\n",
    "    T_WITH_GAP = 1\n",
    "    S_WITH_GAP = -1\n",
    "    S_T_ALIGN = 0\n",
    "    NO_ALIGN = 2\n",
    "    decision = [T_WITH_GAP,S_WITH_GAP,S_T_ALIGN,NO_ALIGN]\n",
    "    F = np.zeros((len(S)+1,len(T)+1))\n",
    "    D = np.zeros((len(S)+1,len(T)+1))\n",
    "    D[0,1:] = T_WITH_GAP \n",
    "    D[1:,0] = S_WITH_GAP \n",
    "    for i in range(1,len(S)+1):\n",
    "        for j in range(1,len(T)+1):\n",
    "            comparison = int(S[i-1]==T[j-1])*2-1\n",
    "            options = [F[i,j-1] - 1, F[i-1,j] - 1, F[i-1,j-1] + comparison, 0]\n",
    "            F[i,j] = options[0]\n",
    "            D[i,j] = T_WITH_GAP\n",
    "            for o,val in enumerate(options):\n",
    "                if val > F[i,j]:\n",
    "                    F[i,j] = val\n",
    "                    D[i,j] = decision[o]\n",
    "    if return_matrix:\n",
    "        return F,D\n",
    "    else:\n",
    "        return SWmatrix2strings(S,T,D,F)"
   ]
  },
  {
   "cell_type": "markdown",
   "metadata": {},
   "source": [
    "# Mapping de reads par recherche de k-mers"
   ]
  },
  {
   "cell_type": "markdown",
   "metadata": {},
   "source": [
    "Les reads sont découpés en k-mers."
   ]
  },
  {
   "cell_type": "code",
   "execution_count": 28,
   "metadata": {},
   "outputs": [
    {
     "data": {
      "text/plain": [
       "False"
      ]
     },
     "execution_count": 28,
     "metadata": {},
     "output_type": "execute_result"
    }
   ],
   "source": [
    "k = 10 # taille des k-mers\n",
    "readTest = reads[2].seq\n",
    "kmerTest = getKmers(readTest, k)\n",
    "len(kmerTest)*k-k+len(kmerTest[len(kmerTest)-1]) == len(readTest)"
   ]
  },
  {
   "cell_type": "markdown",
   "metadata": {},
   "source": [
    "Est-ce qu'il y a des k-mers en plusieurs exemplaires ?"
   ]
  },
  {
   "cell_type": "code",
   "execution_count": 29,
   "metadata": {},
   "outputs": [
    {
     "data": {
      "text/plain": [
       "False"
      ]
     },
     "execution_count": 29,
     "metadata": {},
     "output_type": "execute_result"
    }
   ],
   "source": [
    "len(np.unique(kmerTest)) == len(kmerTest)"
   ]
  },
  {
   "cell_type": "markdown",
   "metadata": {},
   "source": [
    "On a des k-mers en plusieurs exemplaires. Utilisons un dictionnaire pour les stocker avec leurs positions correspondantes dans le read."
   ]
  },
  {
   "cell_type": "code",
   "execution_count": 30,
   "metadata": {},
   "outputs": [
    {
     "data": {
      "text/plain": [
       "{'AAAACATATA': [21],\n",
       " 'AAACATATAT': [22],\n",
       " 'AAATTATTAC': [85],\n",
       " 'AACATATATA': [23],\n",
       " 'AATATAATAT': [61],\n",
       " 'AATATATATA': [66],\n",
       " 'AATCTGTCCA': [32],\n",
       " 'AATTATTACT': [86],\n",
       " 'AATTGATAAT': [54],\n",
       " 'ACATATATAA': [24],\n",
       " 'ACATATATTT': [9],\n",
       " 'ACATATTATA': [43],\n",
       " 'AGACATATTA': [41],\n",
       " 'ATAAATTATT': [83],\n",
       " 'ATAATATAAT': [59],\n",
       " 'ATAATATATA': [64],\n",
       " 'ATAATCTGTC': [30],\n",
       " 'ATAATTGATA': [52],\n",
       " 'ATATAAATTA': [81],\n",
       " 'ATATAATATA': [62],\n",
       " 'ATATAATCTG': [28],\n",
       " 'ATATAATTGA': [50],\n",
       " 'ATATATAAAT': [79],\n",
       " 'ATATATAATC': [26],\n",
       " 'ATATATATAA': [77],\n",
       " 'ATATATATAT': [67, 69, 71, 73, 75],\n",
       " 'ATATATTTGT': [11],\n",
       " 'ATATTATATA': [45],\n",
       " 'ATATTTGTAA': [13],\n",
       " 'ATCTGTCCAG': [33],\n",
       " 'ATGATTTACA': [2],\n",
       " 'ATTACTTCTC': [90],\n",
       " 'ATTATATAAT': [47],\n",
       " 'ATTATTACTT': [87],\n",
       " 'ATTGATAATA': [55],\n",
       " 'ATTTACATAT': [5],\n",
       " 'ATTTGTAAAA': [15],\n",
       " 'CAGACATATT': [40],\n",
       " 'CATATATAAT': [25],\n",
       " 'CATATATTTG': [10],\n",
       " 'CATATTATAT': [44],\n",
       " 'CATGATTTAC': [1],\n",
       " 'CCAGACATAT': [39],\n",
       " 'CTGTCCAGAC': [35],\n",
       " 'GACATATTAT': [42],\n",
       " 'GATAATATAA': [58],\n",
       " 'GATTTACATA': [4],\n",
       " 'GTAAAACATA': [19],\n",
       " 'GTCCAGACAT': [37],\n",
       " 'TAAAACATAT': [20],\n",
       " 'TAAATTATTA': [84],\n",
       " 'TAATATAATA': [60],\n",
       " 'TAATATATAT': [65],\n",
       " 'TAATCTGTCC': [31],\n",
       " 'TAATTGATAA': [53],\n",
       " 'TACATATATT': [8],\n",
       " 'TATAAATTAT': [82],\n",
       " 'TATAATATAT': [63],\n",
       " 'TATAATCTGT': [29],\n",
       " 'TATAATTGAT': [51],\n",
       " 'TATATAAATT': [80],\n",
       " 'TATATAATCT': [27],\n",
       " 'TATATAATTG': [49],\n",
       " 'TATATATAAA': [78],\n",
       " 'TATATATATA': [68, 70, 72, 74, 76],\n",
       " 'TATATTTGTA': [12],\n",
       " 'TATTACTTCT': [89],\n",
       " 'TATTATATAA': [46],\n",
       " 'TATTTGTAAA': [14],\n",
       " 'TCATGATTTA': [0],\n",
       " 'TCCAGACATA': [38],\n",
       " 'TCTGTCCAGA': [34],\n",
       " 'TGATAATATA': [57],\n",
       " 'TGATTTACAT': [3],\n",
       " 'TGTAAAACAT': [18],\n",
       " 'TGTCCAGACA': [36],\n",
       " 'TTACATATAT': [7],\n",
       " 'TTATATAATT': [48],\n",
       " 'TTATTACTTC': [88],\n",
       " 'TTGATAATAT': [56],\n",
       " 'TTGTAAAACA': [17],\n",
       " 'TTTACATATA': [6],\n",
       " 'TTTGTAAAAC': [16]}"
      ]
     },
     "execution_count": 30,
     "metadata": {},
     "output_type": "execute_result"
    }
   ],
   "source": [
    "kmerTdict = {k : [] for k in np.unique(kmerTest)}\n",
    "for i in range(len(kmerTest)):\n",
    "    kmerTdict[kmerTest[i]].append(i)\n",
    "kmerTdict"
   ]
  },
  {
   "cell_type": "markdown",
   "metadata": {},
   "source": [
    "On va couper tout le génome avec un overlapp de `k`."
   ]
  },
  {
   "cell_type": "code",
   "execution_count": 36,
   "metadata": {},
   "outputs": [],
   "source": [
    "wholeGenomeCutted = []\n",
    "n = int(1e4)\n",
    "\n",
    "for i in range(len(Genome)):\n",
    "    chromosome = Genome[i].seq.upper()\n",
    "    cutChr = cutSequence(chromosome, n, k)\n",
    "    wholeGenomeCutted.append(cutChr)"
   ]
  },
  {
   "cell_type": "markdown",
   "metadata": {},
   "source": [
    "Chaque k-mer est positionné dans le génome complet"
   ]
  },
  {
   "cell_type": "markdown",
   "metadata": {},
   "source": [
    "On essaie avec juste le chr1"
   ]
  },
  {
   "cell_type": "code",
   "execution_count": 53,
   "metadata": {},
   "outputs": [],
   "source": [
    "chr1 = wholeGenomeCutted[0]"
   ]
  },
  {
   "cell_type": "markdown",
   "metadata": {},
   "source": [
    "!!! Très long !!!"
   ]
  },
  {
   "cell_type": "code",
   "execution_count": 57,
   "metadata": {},
   "outputs": [
    {
     "name": "stdout",
     "output_type": "stream",
     "text": [
      "AAAACATATA\n",
      "[ 36013  36943  40751  41915  41987  71513  97267 121819 123308 160462\n",
      " 186751 187914 227795 291587 291611 309971 328744 395007 471758 482761\n",
      " 485864 548282 549107 573082 600823]\n",
      "AAACATATAT\n",
      "[ 36014  41916  41988  71514 104655 121820 123309 137295 175878 178904\n",
      " 186752 227796 280650 285608 290883 328745 333278 351797 371374 376727\n",
      " 382803 387146 394305 394750 395008 419769 421724 444237 471759 484102\n",
      " 485865 496750 503216 511943 515515 549108 569408 573083 600824 607370]\n",
      "AAATTATTAC\n"
     ]
    },
    {
     "ename": "KeyboardInterrupt",
     "evalue": "",
     "output_type": "error",
     "traceback": [
      "\u001b[0;31m---------------------------------------------------------------------------\u001b[0m",
      "\u001b[0;31mKeyboardInterrupt\u001b[0m                         Traceback (most recent call last)",
      "\u001b[0;32m<ipython-input-57-7d4061e40282>\u001b[0m in \u001b[0;36m<module>\u001b[0;34m\u001b[0m\n\u001b[1;32m      2\u001b[0m \u001b[0;32mfor\u001b[0m \u001b[0mword\u001b[0m \u001b[0;32min\u001b[0m \u001b[0mkmerTdict\u001b[0m\u001b[0;34m:\u001b[0m\u001b[0;34m\u001b[0m\u001b[0;34m\u001b[0m\u001b[0m\n\u001b[1;32m      3\u001b[0m     \u001b[0mprint\u001b[0m\u001b[0;34m(\u001b[0m\u001b[0mword\u001b[0m\u001b[0;34m)\u001b[0m\u001b[0;34m\u001b[0m\u001b[0;34m\u001b[0m\u001b[0m\n\u001b[0;32m----> 4\u001b[0;31m     \u001b[0mfound\u001b[0m \u001b[0;34m=\u001b[0m \u001b[0msearchWord\u001b[0m\u001b[0;34m(\u001b[0m\u001b[0mchr1\u001b[0m\u001b[0;34m,\u001b[0m \u001b[0mn\u001b[0m\u001b[0;34m,\u001b[0m \u001b[0mk\u001b[0m\u001b[0;34m,\u001b[0m \u001b[0mword\u001b[0m\u001b[0;34m)\u001b[0m\u001b[0;34m\u001b[0m\u001b[0;34m\u001b[0m\u001b[0m\n\u001b[0m\u001b[1;32m      5\u001b[0m     \u001b[0mkmerTmap\u001b[0m\u001b[0;34m[\u001b[0m\u001b[0mword\u001b[0m\u001b[0;34m]\u001b[0m \u001b[0;34m=\u001b[0m \u001b[0mfound\u001b[0m\u001b[0;34m\u001b[0m\u001b[0;34m\u001b[0m\u001b[0m\n\u001b[1;32m      6\u001b[0m     \u001b[0mprint\u001b[0m\u001b[0;34m(\u001b[0m\u001b[0mfound\u001b[0m\u001b[0;34m)\u001b[0m\u001b[0;34m\u001b[0m\u001b[0;34m\u001b[0m\u001b[0m\n",
      "\u001b[0;32m<ipython-input-56-db613434eff7>\u001b[0m in \u001b[0;36msearchWord\u001b[0;34m(cutSeq, n, k, words)\u001b[0m\n\u001b[1;32m      4\u001b[0m     \u001b[0msatSeq\u001b[0m \u001b[0;34m=\u001b[0m \u001b[0;34m[\u001b[0m\u001b[0;34m]\u001b[0m\u001b[0;34m\u001b[0m\u001b[0;34m\u001b[0m\u001b[0m\n\u001b[1;32m      5\u001b[0m     \u001b[0;32mfor\u001b[0m \u001b[0ms\u001b[0m \u001b[0;32min\u001b[0m \u001b[0mcutSeq\u001b[0m\u001b[0;34m:\u001b[0m\u001b[0;34m\u001b[0m\u001b[0;34m\u001b[0m\u001b[0m\n\u001b[0;32m----> 6\u001b[0;31m         \u001b[0mbwt\u001b[0m\u001b[0;34m,\u001b[0m \u001b[0msat\u001b[0m \u001b[0;34m=\u001b[0m \u001b[0mBWT_suffix_table\u001b[0m\u001b[0;34m(\u001b[0m\u001b[0ms\u001b[0m\u001b[0;34m)\u001b[0m\u001b[0;34m\u001b[0m\u001b[0;34m\u001b[0m\u001b[0m\n\u001b[0m\u001b[1;32m      7\u001b[0m         \u001b[0mbwtSeq\u001b[0m\u001b[0;34m.\u001b[0m\u001b[0mappend\u001b[0m\u001b[0;34m(\u001b[0m\u001b[0mbwt\u001b[0m\u001b[0;34m)\u001b[0m\u001b[0;34m\u001b[0m\u001b[0;34m\u001b[0m\u001b[0m\n\u001b[1;32m      8\u001b[0m         \u001b[0msatSeq\u001b[0m\u001b[0;34m.\u001b[0m\u001b[0mappend\u001b[0m\u001b[0;34m(\u001b[0m\u001b[0msat\u001b[0m\u001b[0;34m)\u001b[0m\u001b[0;34m\u001b[0m\u001b[0;34m\u001b[0m\u001b[0m\n",
      "\u001b[0;32m<ipython-input-35-c324f84fa44f>\u001b[0m in \u001b[0;36mBWT_suffix_table\u001b[0;34m(T, end_of_string)\u001b[0m\n\u001b[1;32m     40\u001b[0m     \u001b[0;32mif\u001b[0m \u001b[0mT\u001b[0m\u001b[0;34m[\u001b[0m\u001b[0;34m-\u001b[0m\u001b[0;36m1\u001b[0m\u001b[0;34m]\u001b[0m\u001b[0;34m!=\u001b[0m\u001b[0mend_of_string\u001b[0m \u001b[0;34m:\u001b[0m\u001b[0;34m\u001b[0m\u001b[0;34m\u001b[0m\u001b[0m\n\u001b[1;32m     41\u001b[0m         \u001b[0mT\u001b[0m \u001b[0;34m+=\u001b[0m \u001b[0mend_of_string\u001b[0m\u001b[0;34m\u001b[0m\u001b[0;34m\u001b[0m\u001b[0m\n\u001b[0;32m---> 42\u001b[0;31m     \u001b[0mST\u001b[0m \u001b[0;34m=\u001b[0m \u001b[0msuffix_table\u001b[0m\u001b[0;34m(\u001b[0m\u001b[0mT\u001b[0m\u001b[0;34m)\u001b[0m \u001b[0;31m# O(n log n)\u001b[0m\u001b[0;34m\u001b[0m\u001b[0;34m\u001b[0m\u001b[0m\n\u001b[0m\u001b[1;32m     43\u001b[0m     \u001b[0mbwt\u001b[0m \u001b[0;34m=\u001b[0m \u001b[0;34m\"\"\u001b[0m\u001b[0;34m\u001b[0m\u001b[0;34m\u001b[0m\u001b[0m\n\u001b[1;32m     44\u001b[0m     \u001b[0mindex\u001b[0m \u001b[0;34m=\u001b[0m \u001b[0;34m[\u001b[0m\u001b[0;34m]\u001b[0m\u001b[0;34m\u001b[0m\u001b[0;34m\u001b[0m\u001b[0m\n",
      "\u001b[0;32m<ipython-input-35-c324f84fa44f>\u001b[0m in \u001b[0;36msuffix_table\u001b[0;34m(T)\u001b[0m\n\u001b[1;32m     24\u001b[0m     \"\"\"\n\u001b[1;32m     25\u001b[0m     \u001b[0msuffix_list\u001b[0m \u001b[0;34m=\u001b[0m \u001b[0;34m[\u001b[0m\u001b[0mT\u001b[0m\u001b[0;34m[\u001b[0m\u001b[0mi\u001b[0m\u001b[0;34m:\u001b[0m\u001b[0;34m]\u001b[0m \u001b[0;32mfor\u001b[0m \u001b[0mi\u001b[0m \u001b[0;32min\u001b[0m \u001b[0mrange\u001b[0m\u001b[0;34m(\u001b[0m\u001b[0mlen\u001b[0m\u001b[0;34m(\u001b[0m\u001b[0mT\u001b[0m\u001b[0;34m)\u001b[0m\u001b[0;34m)\u001b[0m\u001b[0;34m]\u001b[0m\u001b[0;34m\u001b[0m\u001b[0;34m\u001b[0m\u001b[0m\n\u001b[0;32m---> 26\u001b[0;31m     \u001b[0msuffix_table\u001b[0m \u001b[0;34m=\u001b[0m \u001b[0msorted\u001b[0m\u001b[0;34m(\u001b[0m\u001b[0;34m(\u001b[0m\u001b[0me\u001b[0m\u001b[0;34m,\u001b[0m\u001b[0mi\u001b[0m\u001b[0;34m)\u001b[0m \u001b[0;32mfor\u001b[0m \u001b[0mi\u001b[0m\u001b[0;34m,\u001b[0m\u001b[0me\u001b[0m \u001b[0;32min\u001b[0m \u001b[0menumerate\u001b[0m\u001b[0;34m(\u001b[0m\u001b[0msuffix_list\u001b[0m\u001b[0;34m)\u001b[0m\u001b[0;34m)\u001b[0m\u001b[0;34m\u001b[0m\u001b[0;34m\u001b[0m\u001b[0m\n\u001b[0m\u001b[1;32m     27\u001b[0m     \u001b[0;32mreturn\u001b[0m \u001b[0msuffix_table\u001b[0m\u001b[0;34m\u001b[0m\u001b[0;34m\u001b[0m\u001b[0m\n\u001b[1;32m     28\u001b[0m \u001b[0;34m\u001b[0m\u001b[0m\n",
      "\u001b[0;32m/usr/lib/python3/dist-packages/Bio/Seq.py\u001b[0m in \u001b[0;36m__eq__\u001b[0;34m(self, other)\u001b[0m\n\u001b[1;32m    219\u001b[0m         \u001b[0;32mif\u001b[0m \u001b[0mhasattr\u001b[0m\u001b[0;34m(\u001b[0m\u001b[0mother\u001b[0m\u001b[0;34m,\u001b[0m \u001b[0;34m\"alphabet\"\u001b[0m\u001b[0;34m)\u001b[0m\u001b[0;34m:\u001b[0m\u001b[0;34m\u001b[0m\u001b[0;34m\u001b[0m\u001b[0m\n\u001b[1;32m    220\u001b[0m             \u001b[0;31m# other could be a Seq or a MutableSeq\u001b[0m\u001b[0;34m\u001b[0m\u001b[0;34m\u001b[0m\u001b[0;34m\u001b[0m\u001b[0m\n\u001b[0;32m--> 221\u001b[0;31m             \u001b[0;32mif\u001b[0m \u001b[0;32mnot\u001b[0m \u001b[0mAlphabet\u001b[0m\u001b[0;34m.\u001b[0m\u001b[0m_check_type_compatible\u001b[0m\u001b[0;34m(\u001b[0m\u001b[0;34m[\u001b[0m\u001b[0mself\u001b[0m\u001b[0;34m.\u001b[0m\u001b[0malphabet\u001b[0m\u001b[0;34m,\u001b[0m \u001b[0mother\u001b[0m\u001b[0;34m.\u001b[0m\u001b[0malphabet\u001b[0m\u001b[0;34m]\u001b[0m\u001b[0;34m)\u001b[0m\u001b[0;34m:\u001b[0m\u001b[0;34m\u001b[0m\u001b[0;34m\u001b[0m\u001b[0m\n\u001b[0m\u001b[1;32m    222\u001b[0m                 warnings.warn(\n\u001b[1;32m    223\u001b[0m                     \"Incompatible alphabets {0!r} and {1!r}\".format(\n",
      "\u001b[0;31mKeyboardInterrupt\u001b[0m: "
     ]
    }
   ],
   "source": [
    "kmerTmap = {}\n",
    "#for word in kmerTdict:\n",
    "#    print(word)\n",
    "#    found = searchWord(chr1, n, k, word)\n",
    "#    kmerTmap[word] = found\n",
    "#    print(found)\n",
    "# kmerTmap"
   ]
  },
  {
   "cell_type": "code",
   "execution_count": 59,
   "metadata": {},
   "outputs": [],
   "source": [
    "nKmer = len(kmerTest)\n",
    "# for k in kmerTmap:\n",
    "#    print(k, len(kmerTmap[k]))\n",
    "# print(kmerTest[0])\n",
    "# print(kmerTest[-2])\n",
    "# print(kmerTmap[kmerTest[0]][0])"
   ]
  },
  {
   "cell_type": "code",
   "execution_count": 64,
   "metadata": {
    "scrolled": false
   },
   "outputs": [
    {
     "ename": "KeyError",
     "evalue": "'TCATGATTTA'",
     "output_type": "error",
     "traceback": [
      "\u001b[0;31m---------------------------------------------------------------------------\u001b[0m",
      "\u001b[0;31mKeyError\u001b[0m                                  Traceback (most recent call last)",
      "\u001b[0;32m<ipython-input-64-ad00301a7027>\u001b[0m in \u001b[0;36m<module>\u001b[0;34m\u001b[0m\n\u001b[0;32m----> 1\u001b[0;31m \u001b[0mS\u001b[0m \u001b[0;34m=\u001b[0m \u001b[0mstr\u001b[0m\u001b[0;34m(\u001b[0m\u001b[0mGenome\u001b[0m\u001b[0;34m[\u001b[0m\u001b[0;36m0\u001b[0m\u001b[0;34m]\u001b[0m\u001b[0;34m.\u001b[0m\u001b[0mseq\u001b[0m\u001b[0;34m[\u001b[0m\u001b[0mkmerTmap\u001b[0m\u001b[0;34m[\u001b[0m\u001b[0mkmerTest\u001b[0m\u001b[0;34m[\u001b[0m\u001b[0;36m0\u001b[0m\u001b[0;34m]\u001b[0m\u001b[0;34m]\u001b[0m\u001b[0;34m[\u001b[0m\u001b[0;36m1\u001b[0m\u001b[0;34m]\u001b[0m\u001b[0;34m:\u001b[0m\u001b[0mkmerTmap\u001b[0m\u001b[0;34m[\u001b[0m\u001b[0mkmerTest\u001b[0m\u001b[0;34m[\u001b[0m\u001b[0;36m0\u001b[0m\u001b[0;34m]\u001b[0m\u001b[0;34m]\u001b[0m\u001b[0;34m[\u001b[0m\u001b[0;36m1\u001b[0m\u001b[0;34m]\u001b[0m\u001b[0;34m+\u001b[0m\u001b[0mlen\u001b[0m\u001b[0;34m(\u001b[0m\u001b[0mreadTest\u001b[0m\u001b[0;34m)\u001b[0m\u001b[0;34m+\u001b[0m\u001b[0;36m10\u001b[0m\u001b[0;34m]\u001b[0m\u001b[0;34m.\u001b[0m\u001b[0mupper\u001b[0m\u001b[0;34m(\u001b[0m\u001b[0;34m)\u001b[0m\u001b[0;34m)\u001b[0m\u001b[0;34m\u001b[0m\u001b[0;34m\u001b[0m\u001b[0m\n\u001b[0m\u001b[1;32m      2\u001b[0m \u001b[0mT\u001b[0m \u001b[0;34m=\u001b[0m \u001b[0mstr\u001b[0m\u001b[0;34m(\u001b[0m\u001b[0mreadTest\u001b[0m\u001b[0;34m)\u001b[0m\u001b[0;34m\u001b[0m\u001b[0;34m\u001b[0m\u001b[0m\n\u001b[1;32m      3\u001b[0m \u001b[0mF\u001b[0m\u001b[0;34m,\u001b[0m\u001b[0mD\u001b[0m \u001b[0;34m=\u001b[0m \u001b[0mSmith_Waterman\u001b[0m\u001b[0;34m(\u001b[0m\u001b[0mS\u001b[0m\u001b[0;34m,\u001b[0m\u001b[0mT\u001b[0m\u001b[0;34m,\u001b[0m\u001b[0;32mTrue\u001b[0m\u001b[0;34m)\u001b[0m\u001b[0;34m\u001b[0m\u001b[0;34m\u001b[0m\u001b[0m\n\u001b[1;32m      4\u001b[0m \u001b[0mSWmatrix2strings\u001b[0m\u001b[0;34m(\u001b[0m\u001b[0mS\u001b[0m\u001b[0;34m,\u001b[0m\u001b[0mT\u001b[0m\u001b[0;34m,\u001b[0m\u001b[0mD\u001b[0m\u001b[0;34m,\u001b[0m\u001b[0mF\u001b[0m\u001b[0;34m)\u001b[0m\u001b[0;34m\u001b[0m\u001b[0;34m\u001b[0m\u001b[0m\n",
      "\u001b[0;31mKeyError\u001b[0m: 'TCATGATTTA'"
     ]
    }
   ],
   "source": [
    "# S = str(Genome[0].seq[kmerTmap[kmerTest[0]][1]:kmerTmap[kmerTest[0]][1]+len(readTest)+10].upper())\n",
    "# T = str(readTest)\n",
    "# F,D = Smith_Waterman(S,T,True)\n",
    "# SWmatrix2strings(S,T,D,F)"
   ]
  },
  {
   "cell_type": "code",
   "execution_count": 68,
   "metadata": {},
   "outputs": [
    {
     "ename": "NameError",
     "evalue": "name 'F' is not defined",
     "output_type": "error",
     "traceback": [
      "\u001b[0;31m---------------------------------------------------------------------------\u001b[0m",
      "\u001b[0;31mNameError\u001b[0m                                 Traceback (most recent call last)",
      "\u001b[0;32m<ipython-input-68-4dc70e2292c7>\u001b[0m in \u001b[0;36m<module>\u001b[0;34m\u001b[0m\n\u001b[0;32m----> 1\u001b[0;31m \u001b[0msns\u001b[0m\u001b[0;34m.\u001b[0m\u001b[0mheatmap\u001b[0m\u001b[0;34m(\u001b[0m\u001b[0mF\u001b[0m\u001b[0;34m)\u001b[0m\u001b[0;34m\u001b[0m\u001b[0;34m\u001b[0m\u001b[0m\n\u001b[0m",
      "\u001b[0;31mNameError\u001b[0m: name 'F' is not defined"
     ]
    }
   ],
   "source": [
    "# print(sns.heatmap(F))\n",
    "# print(sns.heatmap(D))\n",
    "# print(np.amax(F))\n",
    "# print(reads[2])\n",
    "# print(kmerTmap[kmerTest[0]][1])"
   ]
  },
  {
   "cell_type": "markdown",
   "metadata": {},
   "source": [
    "# All genome"
   ]
  },
  {
   "cell_type": "code",
   "execution_count": 37,
   "metadata": {},
   "outputs": [],
   "source": [
    "from itertools import combinations_with_replacement  \n",
    "from itertools import permutations  \n",
    "import pandas as pd"
   ]
  },
  {
   "cell_type": "code",
   "execution_count": 38,
   "metadata": {},
   "outputs": [],
   "source": [
    "k = 20 # taille des k-mers\n",
    "readTest = reads[0].seq"
   ]
  },
  {
   "cell_type": "code",
   "execution_count": 39,
   "metadata": {},
   "outputs": [],
   "source": [
    "alpha = ['A','T','C','G']\n",
    "comb = list(combinations_with_replacement (alpha,k))\n",
    "perm = []\n",
    "for i in comb:\n",
    "    perm += list(permutations(i))\n",
    "string = []\n",
    "for i in perm:\n",
    "    string.append(''.join(i))\n",
    "    \n",
    "allKmers = np.unique(string)"
   ]
  },
  {
   "cell_type": "code",
   "execution_count": null,
   "metadata": {},
   "outputs": [],
   "source": [
    "KmersRead = getKmers(readTest, k)\n",
    "kmerDict = {k : [] for k in np.unique(KmersRead)}\n",
    "for i in range(len(KmersRead)):\n",
    "    kmerDict[KmersRead[i]].append(i)\n",
    "    \n",
    "#kmerCount.loc[KmersRead[i],'Total'] += 1\n",
    "\n",
    "kmerCount = pd.DataFrame(data=0, index=kmerDict.keys(), columns=['Total','Unique'])\n",
    "\n",
    "for km in kmerDict.keys():\n",
    "    kmerCount.loc[km,'Total'] = len(kmerDict[km])\n",
    "\n",
    "kmerCount.loc[:,'Unique'] =  (kmerCount.loc[:,'Total'] == 1)*1"
   ]
  },
  {
   "cell_type": "code",
   "execution_count": null,
   "metadata": {},
   "outputs": [
    {
     "data": {
      "text/html": [
       "<div>\n",
       "<style scoped>\n",
       "    .dataframe tbody tr th:only-of-type {\n",
       "        vertical-align: middle;\n",
       "    }\n",
       "\n",
       "    .dataframe tbody tr th {\n",
       "        vertical-align: top;\n",
       "    }\n",
       "\n",
       "    .dataframe thead th {\n",
       "        text-align: right;\n",
       "    }\n",
       "</style>\n",
       "<table border=\"1\" class=\"dataframe\">\n",
       "  <thead>\n",
       "    <tr style=\"text-align: right;\">\n",
       "      <th></th>\n",
       "      <th>Total</th>\n",
       "      <th>Unique</th>\n",
       "    </tr>\n",
       "  </thead>\n",
       "  <tbody>\n",
       "    <tr>\n",
       "      <th>AAAAAAAATATAGTATTATA</th>\n",
       "      <td>1</td>\n",
       "      <td>1</td>\n",
       "    </tr>\n",
       "    <tr>\n",
       "      <th>AAAAAAATATAGTATTATAT</th>\n",
       "      <td>1</td>\n",
       "      <td>1</td>\n",
       "    </tr>\n",
       "    <tr>\n",
       "      <th>AAAAAATATAGTATTATATA</th>\n",
       "      <td>1</td>\n",
       "      <td>1</td>\n",
       "    </tr>\n",
       "    <tr>\n",
       "      <th>AAAAATATAGTATTATATAG</th>\n",
       "      <td>1</td>\n",
       "      <td>1</td>\n",
       "    </tr>\n",
       "    <tr>\n",
       "      <th>AAAAGATCCATATAAATAAA</th>\n",
       "      <td>1</td>\n",
       "      <td>1</td>\n",
       "    </tr>\n",
       "    <tr>\n",
       "      <th>...</th>\n",
       "      <td>...</td>\n",
       "      <td>...</td>\n",
       "    </tr>\n",
       "    <tr>\n",
       "      <th>TTTTAATAAAAAAAATATAG</th>\n",
       "      <td>1</td>\n",
       "      <td>1</td>\n",
       "    </tr>\n",
       "    <tr>\n",
       "      <th>TTTTATTTTTTAATAAAAAA</th>\n",
       "      <td>1</td>\n",
       "      <td>1</td>\n",
       "    </tr>\n",
       "    <tr>\n",
       "      <th>TTTTTAAGCGTTTTATTTTT</th>\n",
       "      <td>1</td>\n",
       "      <td>1</td>\n",
       "    </tr>\n",
       "    <tr>\n",
       "      <th>TTTTTAATAAAAAAAATATA</th>\n",
       "      <td>1</td>\n",
       "      <td>1</td>\n",
       "    </tr>\n",
       "    <tr>\n",
       "      <th>TTTTTTAATAAAAAAAATAT</th>\n",
       "      <td>1</td>\n",
       "      <td>1</td>\n",
       "    </tr>\n",
       "  </tbody>\n",
       "</table>\n",
       "<p>81 rows × 2 columns</p>\n",
       "</div>"
      ],
      "text/plain": [
       "                      Total  Unique\n",
       "AAAAAAAATATAGTATTATA      1       1\n",
       "AAAAAAATATAGTATTATAT      1       1\n",
       "AAAAAATATAGTATTATATA      1       1\n",
       "AAAAATATAGTATTATATAG      1       1\n",
       "AAAAGATCCATATAAATAAA      1       1\n",
       "...                     ...     ...\n",
       "TTTTAATAAAAAAAATATAG      1       1\n",
       "TTTTATTTTTTAATAAAAAA      1       1\n",
       "TTTTTAAGCGTTTTATTTTT      1       1\n",
       "TTTTTAATAAAAAAAATATA      1       1\n",
       "TTTTTTAATAAAAAAAATAT      1       1\n",
       "\n",
       "[81 rows x 2 columns]"
      ]
     },
     "execution_count": 61,
     "metadata": {},
     "output_type": "execute_result"
    }
   ],
   "source": [
    "kmerCount"
   ]
  },
  {
   "cell_type": "code",
   "execution_count": null,
   "metadata": {
    "scrolled": true
   },
   "outputs": [],
   "source": [
    "uniqueKmers = kmerCount.loc[kmerCount.loc[:,'Unique']==1].index\n",
    "len(uniqueKmers)"
   ]
  },
  {
   "cell_type": "markdown",
   "metadata": {},
   "source": [
    "Chaque k-mer est positionné dans le génome complet"
   ]
  },
  {
   "cell_type": "markdown",
   "metadata": {},
   "source": [
    "# UNIQUEMENT"
   ]
  },
  {
   "cell_type": "markdown",
   "metadata": {},
   "source": [
    "On fait la BWT sur notre génome"
   ]
  },
  {
   "cell_type": "code",
   "execution_count": 33,
   "metadata": {
    "scrolled": true
   },
   "outputs": [
    {
     "name": "stdout",
     "output_type": "stream",
     "text": [
      "chr 0\n"
     ]
    },
    {
     "ename": "KeyboardInterrupt",
     "evalue": "",
     "output_type": "error",
     "traceback": [
      "\u001b[0;31m---------------------------------------------------------------------------\u001b[0m",
      "\u001b[0;31mKeyboardInterrupt\u001b[0m                         Traceback (most recent call last)",
      "\u001b[0;32m<ipython-input-33-ea1188ba5fef>\u001b[0m in \u001b[0;36m<module>\u001b[0;34m\u001b[0m\n\u001b[0;32m----> 1\u001b[0;31m \u001b[0mbwtGen\u001b[0m\u001b[0;34m,\u001b[0m \u001b[0msatGen\u001b[0m \u001b[0;34m=\u001b[0m \u001b[0mGenomeBWT\u001b[0m\u001b[0;34m(\u001b[0m\u001b[0;34m[\u001b[0m\u001b[0mGenome\u001b[0m\u001b[0;34m[\u001b[0m\u001b[0;36m0\u001b[0m\u001b[0;34m]\u001b[0m\u001b[0;34m]\u001b[0m\u001b[0;34m)\u001b[0m\u001b[0;34m\u001b[0m\u001b[0;34m\u001b[0m\u001b[0m\n\u001b[0m",
      "\u001b[0;32m<ipython-input-27-2b9ed208445f>\u001b[0m in \u001b[0;36mGenomeBWT\u001b[0;34m(genome)\u001b[0m\n\u001b[1;32m     17\u001b[0m         \u001b[0msatChr\u001b[0m \u001b[0;34m=\u001b[0m \u001b[0;34m[\u001b[0m\u001b[0;34m]\u001b[0m\u001b[0;34m\u001b[0m\u001b[0;34m\u001b[0m\u001b[0m\n\u001b[1;32m     18\u001b[0m         \u001b[0;32mfor\u001b[0m \u001b[0mseq\u001b[0m \u001b[0;32min\u001b[0m \u001b[0mchromosome\u001b[0m\u001b[0;34m:\u001b[0m\u001b[0;34m\u001b[0m\u001b[0;34m\u001b[0m\u001b[0m\n\u001b[0;32m---> 19\u001b[0;31m             \u001b[0mbwt\u001b[0m\u001b[0;34m,\u001b[0m \u001b[0msat\u001b[0m \u001b[0;34m=\u001b[0m \u001b[0mBWT_suffix_table\u001b[0m\u001b[0;34m(\u001b[0m\u001b[0mseq\u001b[0m\u001b[0;34m)\u001b[0m\u001b[0;34m\u001b[0m\u001b[0;34m\u001b[0m\u001b[0m\n\u001b[0m\u001b[1;32m     20\u001b[0m             \u001b[0mbwtChr\u001b[0m\u001b[0;34m.\u001b[0m\u001b[0mappend\u001b[0m\u001b[0;34m(\u001b[0m\u001b[0mbwt\u001b[0m\u001b[0;34m)\u001b[0m\u001b[0;34m\u001b[0m\u001b[0;34m\u001b[0m\u001b[0m\n\u001b[1;32m     21\u001b[0m             \u001b[0msatChr\u001b[0m\u001b[0;34m.\u001b[0m\u001b[0mappend\u001b[0m\u001b[0;34m(\u001b[0m\u001b[0msat\u001b[0m\u001b[0;34m)\u001b[0m\u001b[0;34m\u001b[0m\u001b[0;34m\u001b[0m\u001b[0m\n",
      "\u001b[0;32m<ipython-input-11-c324f84fa44f>\u001b[0m in \u001b[0;36mBWT_suffix_table\u001b[0;34m(T, end_of_string)\u001b[0m\n\u001b[1;32m     40\u001b[0m     \u001b[0;32mif\u001b[0m \u001b[0mT\u001b[0m\u001b[0;34m[\u001b[0m\u001b[0;34m-\u001b[0m\u001b[0;36m1\u001b[0m\u001b[0;34m]\u001b[0m\u001b[0;34m!=\u001b[0m\u001b[0mend_of_string\u001b[0m \u001b[0;34m:\u001b[0m\u001b[0;34m\u001b[0m\u001b[0;34m\u001b[0m\u001b[0m\n\u001b[1;32m     41\u001b[0m         \u001b[0mT\u001b[0m \u001b[0;34m+=\u001b[0m \u001b[0mend_of_string\u001b[0m\u001b[0;34m\u001b[0m\u001b[0;34m\u001b[0m\u001b[0m\n\u001b[0;32m---> 42\u001b[0;31m     \u001b[0mST\u001b[0m \u001b[0;34m=\u001b[0m \u001b[0msuffix_table\u001b[0m\u001b[0;34m(\u001b[0m\u001b[0mT\u001b[0m\u001b[0;34m)\u001b[0m \u001b[0;31m# O(n log n)\u001b[0m\u001b[0;34m\u001b[0m\u001b[0;34m\u001b[0m\u001b[0m\n\u001b[0m\u001b[1;32m     43\u001b[0m     \u001b[0mbwt\u001b[0m \u001b[0;34m=\u001b[0m \u001b[0;34m\"\"\u001b[0m\u001b[0;34m\u001b[0m\u001b[0;34m\u001b[0m\u001b[0m\n\u001b[1;32m     44\u001b[0m     \u001b[0mindex\u001b[0m \u001b[0;34m=\u001b[0m \u001b[0;34m[\u001b[0m\u001b[0;34m]\u001b[0m\u001b[0;34m\u001b[0m\u001b[0;34m\u001b[0m\u001b[0m\n",
      "\u001b[0;32m<ipython-input-11-c324f84fa44f>\u001b[0m in \u001b[0;36msuffix_table\u001b[0;34m(T)\u001b[0m\n\u001b[1;32m     24\u001b[0m     \"\"\"\n\u001b[1;32m     25\u001b[0m     \u001b[0msuffix_list\u001b[0m \u001b[0;34m=\u001b[0m \u001b[0;34m[\u001b[0m\u001b[0mT\u001b[0m\u001b[0;34m[\u001b[0m\u001b[0mi\u001b[0m\u001b[0;34m:\u001b[0m\u001b[0;34m]\u001b[0m \u001b[0;32mfor\u001b[0m \u001b[0mi\u001b[0m \u001b[0;32min\u001b[0m \u001b[0mrange\u001b[0m\u001b[0;34m(\u001b[0m\u001b[0mlen\u001b[0m\u001b[0;34m(\u001b[0m\u001b[0mT\u001b[0m\u001b[0;34m)\u001b[0m\u001b[0;34m)\u001b[0m\u001b[0;34m]\u001b[0m\u001b[0;34m\u001b[0m\u001b[0;34m\u001b[0m\u001b[0m\n\u001b[0;32m---> 26\u001b[0;31m     \u001b[0msuffix_table\u001b[0m \u001b[0;34m=\u001b[0m \u001b[0msorted\u001b[0m\u001b[0;34m(\u001b[0m\u001b[0;34m(\u001b[0m\u001b[0me\u001b[0m\u001b[0;34m,\u001b[0m\u001b[0mi\u001b[0m\u001b[0;34m)\u001b[0m \u001b[0;32mfor\u001b[0m \u001b[0mi\u001b[0m\u001b[0;34m,\u001b[0m\u001b[0me\u001b[0m \u001b[0;32min\u001b[0m \u001b[0menumerate\u001b[0m\u001b[0;34m(\u001b[0m\u001b[0msuffix_list\u001b[0m\u001b[0;34m)\u001b[0m\u001b[0;34m)\u001b[0m\u001b[0;34m\u001b[0m\u001b[0;34m\u001b[0m\u001b[0m\n\u001b[0m\u001b[1;32m     27\u001b[0m     \u001b[0;32mreturn\u001b[0m \u001b[0msuffix_table\u001b[0m\u001b[0;34m\u001b[0m\u001b[0;34m\u001b[0m\u001b[0m\n\u001b[1;32m     28\u001b[0m \u001b[0;34m\u001b[0m\u001b[0m\n",
      "\u001b[0;32m/usr/lib/python3/dist-packages/Bio/Seq.py\u001b[0m in \u001b[0;36m__lt__\u001b[0;34m(self, other)\u001b[0m\n\u001b[1;32m    236\u001b[0m         \u001b[0;34m\"\"\"Implement the less-than operand.\"\"\"\u001b[0m\u001b[0;34m\u001b[0m\u001b[0;34m\u001b[0m\u001b[0m\n\u001b[1;32m    237\u001b[0m         \u001b[0;32mif\u001b[0m \u001b[0mhasattr\u001b[0m\u001b[0;34m(\u001b[0m\u001b[0mother\u001b[0m\u001b[0;34m,\u001b[0m \u001b[0;34m\"alphabet\"\u001b[0m\u001b[0;34m)\u001b[0m\u001b[0;34m:\u001b[0m\u001b[0;34m\u001b[0m\u001b[0;34m\u001b[0m\u001b[0m\n\u001b[0;32m--> 238\u001b[0;31m             \u001b[0;32mif\u001b[0m \u001b[0;32mnot\u001b[0m \u001b[0mAlphabet\u001b[0m\u001b[0;34m.\u001b[0m\u001b[0m_check_type_compatible\u001b[0m\u001b[0;34m(\u001b[0m\u001b[0;34m[\u001b[0m\u001b[0mself\u001b[0m\u001b[0;34m.\u001b[0m\u001b[0malphabet\u001b[0m\u001b[0;34m,\u001b[0m \u001b[0mother\u001b[0m\u001b[0;34m.\u001b[0m\u001b[0malphabet\u001b[0m\u001b[0;34m]\u001b[0m\u001b[0;34m)\u001b[0m\u001b[0;34m:\u001b[0m\u001b[0;34m\u001b[0m\u001b[0;34m\u001b[0m\u001b[0m\n\u001b[0m\u001b[1;32m    239\u001b[0m                 warnings.warn(\n\u001b[1;32m    240\u001b[0m                     \"Incompatible alphabets {0!r} and {1!r}\".format(\n",
      "\u001b[0;32m/usr/lib/python3/dist-packages/Bio/Alphabet/__init__.py\u001b[0m in \u001b[0;36m_check_type_compatible\u001b[0;34m(alphabets)\u001b[0m\n\u001b[1;32m    442\u001b[0m     \u001b[0mdna\u001b[0m\u001b[0;34m,\u001b[0m \u001b[0mrna\u001b[0m\u001b[0;34m,\u001b[0m \u001b[0mnucl\u001b[0m\u001b[0;34m,\u001b[0m \u001b[0mprotein\u001b[0m \u001b[0;34m=\u001b[0m \u001b[0;32mFalse\u001b[0m\u001b[0;34m,\u001b[0m \u001b[0;32mFalse\u001b[0m\u001b[0;34m,\u001b[0m \u001b[0;32mFalse\u001b[0m\u001b[0;34m,\u001b[0m \u001b[0;32mFalse\u001b[0m\u001b[0;34m\u001b[0m\u001b[0;34m\u001b[0m\u001b[0m\n\u001b[1;32m    443\u001b[0m     \u001b[0;32mfor\u001b[0m \u001b[0malpha\u001b[0m \u001b[0;32min\u001b[0m \u001b[0malphabets\u001b[0m\u001b[0;34m:\u001b[0m\u001b[0;34m\u001b[0m\u001b[0;34m\u001b[0m\u001b[0m\n\u001b[0;32m--> 444\u001b[0;31m         \u001b[0ma\u001b[0m \u001b[0;34m=\u001b[0m \u001b[0m_get_base_alphabet\u001b[0m\u001b[0;34m(\u001b[0m\u001b[0malpha\u001b[0m\u001b[0;34m)\u001b[0m\u001b[0;34m\u001b[0m\u001b[0;34m\u001b[0m\u001b[0m\n\u001b[0m\u001b[1;32m    445\u001b[0m         \u001b[0;32mif\u001b[0m \u001b[0misinstance\u001b[0m\u001b[0;34m(\u001b[0m\u001b[0ma\u001b[0m\u001b[0;34m,\u001b[0m \u001b[0mDNAAlphabet\u001b[0m\u001b[0;34m)\u001b[0m\u001b[0;34m:\u001b[0m\u001b[0;34m\u001b[0m\u001b[0;34m\u001b[0m\u001b[0m\n\u001b[1;32m    446\u001b[0m             \u001b[0mdna\u001b[0m \u001b[0;34m=\u001b[0m \u001b[0;32mTrue\u001b[0m\u001b[0;34m\u001b[0m\u001b[0;34m\u001b[0m\u001b[0m\n",
      "\u001b[0;32m/usr/lib/python3/dist-packages/Bio/Alphabet/__init__.py\u001b[0m in \u001b[0;36m_get_base_alphabet\u001b[0;34m(alphabet)\u001b[0m\n\u001b[1;32m    285\u001b[0m     \u001b[0;34m\"\"\"Return the non-gapped non-stop-codon Alphabet object (PRIVATE).\"\"\"\u001b[0m\u001b[0;34m\u001b[0m\u001b[0;34m\u001b[0m\u001b[0m\n\u001b[1;32m    286\u001b[0m     \u001b[0ma\u001b[0m \u001b[0;34m=\u001b[0m \u001b[0malphabet\u001b[0m\u001b[0;34m\u001b[0m\u001b[0;34m\u001b[0m\u001b[0m\n\u001b[0;32m--> 287\u001b[0;31m     \u001b[0;32mwhile\u001b[0m \u001b[0misinstance\u001b[0m\u001b[0;34m(\u001b[0m\u001b[0ma\u001b[0m\u001b[0;34m,\u001b[0m \u001b[0mAlphabetEncoder\u001b[0m\u001b[0;34m)\u001b[0m\u001b[0;34m:\u001b[0m\u001b[0;34m\u001b[0m\u001b[0;34m\u001b[0m\u001b[0m\n\u001b[0m\u001b[1;32m    288\u001b[0m         \u001b[0ma\u001b[0m \u001b[0;34m=\u001b[0m \u001b[0ma\u001b[0m\u001b[0;34m.\u001b[0m\u001b[0malphabet\u001b[0m\u001b[0;34m\u001b[0m\u001b[0;34m\u001b[0m\u001b[0m\n\u001b[1;32m    289\u001b[0m     \u001b[0;32mif\u001b[0m \u001b[0;32mnot\u001b[0m \u001b[0misinstance\u001b[0m\u001b[0;34m(\u001b[0m\u001b[0ma\u001b[0m\u001b[0;34m,\u001b[0m \u001b[0mAlphabet\u001b[0m\u001b[0;34m)\u001b[0m\u001b[0;34m:\u001b[0m\u001b[0;34m\u001b[0m\u001b[0;34m\u001b[0m\u001b[0m\n",
      "\u001b[0;31mKeyboardInterrupt\u001b[0m: "
     ]
    }
   ],
   "source": [
    "bwtGen, satGen = GenomeBWT([Genome[0]])"
   ]
  },
  {
   "cell_type": "markdown",
   "metadata": {},
   "source": [
    "On va découper les k-mers dans notre lecture puis les ranger dans :\n",
    "- KmersRead : string array, chaque k-mers à la suite dans l'ordre de présence dans la lecture\n",
    "- kmerDict : dict {string : [int]}, correspondance k-mer unique avec toutes ses positions dans la lecture\n",
    "- uniqueKmers == kmerDict.keys() : string array, liste des k-mers trouvés"
   ]
  },
  {
   "cell_type": "markdown",
   "metadata": {},
   "source": [
    "Mon kernel meurt ici aouch"
   ]
  },
  {
   "cell_type": "code",
   "execution_count": null,
   "metadata": {},
   "outputs": [],
   "source": [
    "k = 9\n",
    "read = str(reads[2].seq).upper()\n",
    "KmersRead = getKmers(read, k)\n",
    "uniqueKmers = np.unique(KmersRead)\n",
    "kmerDict = {k : [] for k in uniqueKmers}\n",
    "for i in range(len(KmersRead)):\n",
    "    kmerDict[KmersRead[i]].append(i)"
   ]
  },
  {
   "cell_type": "markdown",
   "metadata": {},
   "source": [
    "Les occurences de chaque k-mer sont cherchées dans le génome :\n",
    "- ChrKmersPos :  [(k-mer, occurence)]\n",
    "- ChrKmersFound : {k-mer : [occurences]}\n",
    "- ChrKmersFreq : {k-mer : fréquence dans le chromosome}"
   ]
  },
  {
   "cell_type": "code",
   "execution_count": null,
   "metadata": {
    "scrolled": true
   },
   "outputs": [],
   "source": [
    "ChrKmersPos = []\n",
    "ChrKmersFound = {}\n",
    "ChrKmersFreq = {}\n",
    "for w in uniqueKmers:\n",
    "    foundChr = searchChr(bwtGen[0],satGen[0], w)\n",
    "    ChrKmersFound[w] = foundChr\n",
    "    ChrKmersFreq[w] = len(foundChr)\n",
    "    for i in foundChr:\n",
    "        ChrKmersPos.append((w,i))"
   ]
  },
  {
   "cell_type": "markdown",
   "metadata": {},
   "source": [
    "Les k-mers les plus fréquents sont filtrés. On garde les zones avec une fréquence inférieur au 75e percentile."
   ]
  },
  {
   "cell_type": "code",
   "execution_count": null,
   "metadata": {},
   "outputs": [],
   "source": [
    "ChrKmersPosFilt = []\n",
    "threshold = np.percentile(list(ChrKmersFreq.values()),75)\n",
    "for t in ChrKmersPos:\n",
    "    if ChrKmersFreq[t[0]] < threshold:\n",
    "        ChrKmersPosFilt.append(t)"
   ]
  },
  {
   "cell_type": "code",
   "execution_count": null,
   "metadata": {},
   "outputs": [],
   "source": [
    "Les k-mers trouvés dans le génome sont ordonés dans l'ordre de leur présence dans le chromosome.\n",
    "- ChrKmersPosFiltdf : DataFrame [k-mer,iChromosome]"
   ]
  },
  {
   "cell_type": "code",
   "execution_count": null,
   "metadata": {},
   "outputs": [],
   "source": [
    "test1 = pd.DataFrame(ChrKmersPos, columns=['K-mer','i'])\n",
    "ChrKmersPosFiltdf = pd.DataFrame(ChrKmersPosFilt, columns=['K-mer','i'])"
   ]
  },
  {
   "cell_type": "code",
   "execution_count": null,
   "metadata": {},
   "outputs": [],
   "source": [
    "ChrKmersPosFiltdf = ChrKmersPosFiltdf.sort_values('i')"
   ]
  },
  {
   "cell_type": "code",
   "execution_count": null,
   "metadata": {},
   "outputs": [],
   "source": [
    "SortedKmers = list(ChrKmersPosFiltdf.loc[:,'K-mer'])"
   ]
  },
  {
   "cell_type": "markdown",
   "metadata": {},
   "source": [
    "On essaie de faire correspondre les k-mers trouvés dans le chromosome à ceux de la lecture."
   ]
  },
  {
   "cell_type": "code",
   "execution_count": null,
   "metadata": {
    "scrolled": false
   },
   "outputs": [],
   "source": [
    "corrRead = [] # indices des k-mers de la lecture mis en correspondance avec les k-mers du génome\n",
    "i = -1\n",
    "for k in SortedKmers: # Pour chaque k-mer dans le génome\n",
    "    i += 1\n",
    "    listI = kmerDict[k] # liste des positions possibles dans la lecture\n",
    "    # Si qu'une position ou que début de la mise en correspondance \n",
    "    # ou qu'on a déjà une fin de lecture mis en correspondance juste avant\n",
    "    if len(listI) == 1 or len(corrRead) == 0 or listI[-1]-corrRead[-1]<=0:\n",
    "        corrRead.append(listI[0]) # on met en correspondance k du génome avec la première occurence de k dans le read\n",
    "    else:\n",
    "        # différence entre les posible occurences de k dans read \n",
    "        # avec l'index de la dernière correspondance faite\n",
    "        dist = np.array(listI)-corrRead[-1]\n",
    "        j = 0\n",
    "        # on cherche l'occurence pouvant étant après l'index de la dernière correspondance faite\n",
    "        # et la plus proche de celle-ci\n",
    "        while dist[j]<=0:\n",
    "            j+=1\n",
    "        \n",
    "        corrRead.append(listI[j])    "
   ]
  },
  {
   "cell_type": "code",
   "execution_count": null,
   "metadata": {},
   "outputs": [
    {
     "data": {
      "text/plain": [
       "<matplotlib.collections.PathCollection at 0x7fb39b127cd0>"
      ]
     },
     "execution_count": 437,
     "metadata": {},
     "output_type": "execute_result"
    },
    {
     "data": {
      "image/png": "[encoded data removed]",
      "text/plain": [
       "<Figure size 432x288 with 1 Axes>"
      ]
     },
     "metadata": {
      "needs_background": "light"
     },
     "output_type": "display_data"
    }
   ],
   "source": [
    "plt.scatter(corrRead,list(ChrKmersPosFiltdf.loc[:,'i']),s=1)"
   ]
  },
  {
   "cell_type": "markdown",
   "metadata": {},
   "source": [
    "À l'aide d'une fenêtre glissante le long de y, la zone avec la plus forte concentration de k-mers est détectée."
   ]
  },
  {
   "cell_type": "code",
   "execution_count": null,
   "metadata": {},
   "outputs": [],
   "source": [
    "x = corrRead\n",
    "y = list(ChrKmersPosFiltdf.loc[:,'i'])"
   ]
  },
  {
   "cell_type": "code",
   "execution_count": null,
   "metadata": {},
   "outputs": [],
   "source": [
    "yRange = (min(y),max(y))\n",
    "ySpan = yRange[1]-yRange[0]\n",
    "epsilon = len(read)*2"
   ]
  },
  {
   "cell_type": "code",
   "execution_count": null,
   "metadata": {
    "scrolled": true
   },
   "outputs": [],
   "source": [
    "mi = yRange[0]\n",
    "ma = mi+epsilon\n",
    "i = 0\n",
    "yMov = [0]*ySpan\n",
    "for j in range(len(y)):\n",
    "    if y[j] < ma:\n",
    "        yMov[i] += 1\n",
    "    else:\n",
    "        lastyMov = yMov[i]\n",
    "        while y[j] >= ma:\n",
    "            i += 1\n",
    "            mi += 1\n",
    "            ma += 1\n",
    "            yMov[i] = yMov[i-1]\n",
    "            jMi = j-yMov[i-1]\n",
    "            while y[jMi] < mi:\n",
    "                yMov[i] -= 1 \n",
    "                jMi += 1\n",
    "        yMov[i] += 1\n",
    "    "
   ]
  },
  {
   "cell_type": "code",
   "execution_count": null,
   "metadata": {},
   "outputs": [],
   "source": [
    "iStart = yMov.index(max(yMov))+yRange[0]\n",
    "iEnd = iStart + epsilon + int(len(read)/2)"
   ]
  },
  {
   "cell_type": "markdown",
   "metadata": {},
   "source": [
    "On va prendre les fragments qui correspondent à une lecture à partir de là."
   ]
  },
  {
   "cell_type": "code",
   "execution_count": null,
   "metadata": {
    "scrolled": true
   },
   "outputs": [],
   "source": [
    "S = str(Genome[0].seq)[iStart:iEnd].upper()\n",
    "T = read\n",
    "F,D = Smith_Waterman(S,T,True)\n",
    "seqChr,seqRead,istart,iend = SWmatrix2strings(S,T,D,F)"
   ]
  },
  {
   "cell_type": "code",
   "execution_count": null,
   "metadata": {},
   "outputs": [],
   "source": [
    "mappedTo = (istart[0]+iStart,iend[0]+iStart)\n",
    "Fscore = np.amax(F)"
   ]
  },
  {
   "cell_type": "code",
   "execution_count": null,
   "metadata": {},
   "outputs": [
    {
     "data": {
      "text/plain": [
       "(471737, 471837)"
      ]
     },
     "execution_count": 510,
     "metadata": {},
     "output_type": "execute_result"
    }
   ],
   "source": [
    "mappedTo"
   ]
  },
  {
   "cell_type": "code",
   "execution_count": null,
   "metadata": {},
   "outputs": [
    {
     "data": {
      "text/plain": [
       "100.0"
      ]
     },
     "execution_count": 511,
     "metadata": {},
     "output_type": "execute_result"
    }
   ],
   "source": [
    "Fscore"
   ]
  },
  {
   "cell_type": "code",
   "execution_count": null,
   "metadata": {},
   "outputs": [
    {
     "data": {
      "text/plain": [
       "True"
      ]
     },
     "execution_count": 512,
     "metadata": {},
     "output_type": "execute_result"
    }
   ],
   "source": [
    "str(Genome[0].seq)[mappedTo[0]:mappedTo[1]].upper() == seqChr"
   ]
  },
  {
   "cell_type": "code",
   "execution_count": null,
   "metadata": {},
   "outputs": [
    {
     "data": {
      "text/plain": [
       "('TCATGATTTACATATATTTGTAAAACATATATAATCTGTCCAGACATATTATATAATTGATAATATAATATATATATATATATATAAATTATTACTTCTC',\n",
       " 'TCATGATTTACATATATTTGTAAAACATATATAATCTGTCCAGACATATTATATAATTGATAATATAATATATATATATATATATAAATTATTACTTCTC')"
      ]
     },
     "execution_count": 513,
     "metadata": {},
     "output_type": "execute_result"
    }
   ],
   "source": [
    "seqChr,seqRead"
   ]
  },
  {
   "cell_type": "code",
   "execution_count": null,
   "metadata": {},
   "outputs": [],
   "source": [
    "storeMapping = pd.DataFrame(columns=['chr', 'iStart', 'iEnd', 'Fscore'])"
   ]
  },
  {
   "cell_type": "code",
   "execution_count": null,
   "metadata": {},
   "outputs": [],
   "source": [
    "this = np.reshape([0,iStart,iEnd,Fscore],(1, 4))"
   ]
  },
  {
   "cell_type": "code",
   "execution_count": null,
   "metadata": {},
   "outputs": [],
   "source": [
    "thisMapping = pd.DataFrame(this,index = [reads[0].id],columns=['chr', 'iStart', 'iEnd', 'Fscore'])"
   ]
  },
  {
   "cell_type": "code",
   "execution_count": null,
   "metadata": {},
   "outputs": [
    {
     "data": {
      "text/html": [
       "<div>\n",
       "<style scoped>\n",
       "    .dataframe tbody tr th:only-of-type {\n",
       "        vertical-align: middle;\n",
       "    }\n",
       "\n",
       "    .dataframe tbody tr th {\n",
       "        vertical-align: top;\n",
       "    }\n",
       "\n",
       "    .dataframe thead th {\n",
       "        text-align: right;\n",
       "    }\n",
       "</style>\n",
       "<table border=\"1\" class=\"dataframe\">\n",
       "  <thead>\n",
       "    <tr style=\"text-align: right;\">\n",
       "      <th></th>\n",
       "      <th>chr</th>\n",
       "      <th>iStart</th>\n",
       "      <th>iEnd</th>\n",
       "      <th>Fscore</th>\n",
       "    </tr>\n",
       "  </thead>\n",
       "  <tbody>\n",
       "    <tr>\n",
       "      <th>NC_004325.2-100000</th>\n",
       "      <td>0.0</td>\n",
       "      <td>471629.0</td>\n",
       "      <td>471879.0</td>\n",
       "      <td>100.0</td>\n",
       "    </tr>\n",
       "  </tbody>\n",
       "</table>\n",
       "</div>"
      ],
      "text/plain": [
       "                    chr    iStart      iEnd  Fscore\n",
       "NC_004325.2-100000  0.0  471629.0  471879.0   100.0"
      ]
     },
     "execution_count": 539,
     "metadata": {},
     "output_type": "execute_result"
    }
   ],
   "source": [
    "storeMapping.append(thisMapping)"
   ]
  },
  {
   "cell_type": "code",
   "execution_count": null,
   "metadata": {},
   "outputs": [
    {
     "name": "stdout",
     "output_type": "stream",
     "text": [
      "NC_004325.2-100000 position is 131735\n",
      "TTAATATATTCCTCATATATTTATTTATATGGATCTTTTCACCCGTTACTATATAATACTATATTTTTTTTATTAAAAAACAAAACGCTTAAAAAGGAAA TTAATATATTCCTCATATATTTATTTATATGGATCTTTTCACCCGTTACTATATAATACTATATTTTTTTTATTAAAAAATAAAACGCTTAAAAAGGAAA\n"
     ]
    },
    {
     "data": {
      "text/plain": [
       "True"
      ]
     },
     "execution_count": 46,
     "metadata": {},
     "output_type": "execute_result"
    }
   ],
   "source": [
    "print(reads[0].description, 'position is 131735')\n",
    "print(str(Genome[0].seq.upper())[131734:131834],complementInverse(reads[0].seq))\n",
    "pattern_matching_BWT(str(Genome[0].seq.upper())[128700:140000],complementInverse(reads[0][1:14].seq))"
   ]
  },
  {
   "cell_type": "markdown",
   "metadata": {},
   "source": [
    "## Check correspondance avec fichier BAM"
   ]
  },
  {
   "cell_type": "code",
   "execution_count": null,
   "metadata": {},
   "outputs": [],
   "source": [
    "#!pip install pysam\n",
    "import pysam"
   ]
  },
  {
   "cell_type": "code",
   "execution_count": null,
   "metadata": {},
   "outputs": [],
   "source": [
    "samfile = pysam.AlignmentFile('./single_Pfal_dat.bam', 'rb')\n",
    "allMap = samfile.fetch(until_eof=True)"
   ]
  },
  {
   "cell_type": "code",
   "execution_count": null,
   "metadata": {
    "scrolled": true
   },
   "outputs": [
    {
     "name": "stdout",
     "output_type": "stream",
     "text": [
      "NC_004325.2-100000\n",
      "131734\n",
      "Read n° 0\n",
      "NC_004325.2-100000\n",
      "Chr 0\n"
     ]
    },
    {
     "ename": "NameError",
     "evalue": "name 'wholeGenomeCutted' is not defined",
     "output_type": "error",
     "traceback": [
      "\u001b[0;31m---------------------------------------------------------------------------\u001b[0m",
      "\u001b[0;31mNameError\u001b[0m                                 Traceback (most recent call last)",
      "\u001b[0;32m<ipython-input-25-645851eb49d8>\u001b[0m in \u001b[0;36m<module>\u001b[0;34m\u001b[0m\n\u001b[1;32m     23\u001b[0m     \u001b[0;32mfor\u001b[0m \u001b[0mk\u001b[0m \u001b[0;32min\u001b[0m \u001b[0mrange\u001b[0m\u001b[0;34m(\u001b[0m\u001b[0mlen\u001b[0m\u001b[0;34m(\u001b[0m\u001b[0mGenome\u001b[0m\u001b[0;34m)\u001b[0m\u001b[0;34m)\u001b[0m\u001b[0;34m:\u001b[0m\u001b[0;34m\u001b[0m\u001b[0;34m\u001b[0m\u001b[0m\n\u001b[1;32m     24\u001b[0m         \u001b[0mprint\u001b[0m\u001b[0;34m(\u001b[0m\u001b[0;34m'Chr'\u001b[0m\u001b[0;34m,\u001b[0m\u001b[0mk\u001b[0m\u001b[0;34m)\u001b[0m\u001b[0;34m\u001b[0m\u001b[0;34m\u001b[0m\u001b[0m\n\u001b[0;32m---> 25\u001b[0;31m         \u001b[0mcutChr\u001b[0m \u001b[0;34m=\u001b[0m \u001b[0mwholeGenomeCutted\u001b[0m\u001b[0;34m[\u001b[0m\u001b[0mk\u001b[0m\u001b[0;34m]\u001b[0m\u001b[0;34m\u001b[0m\u001b[0;34m\u001b[0m\u001b[0m\n\u001b[0m\u001b[1;32m     26\u001b[0m         \u001b[0mfound\u001b[0m \u001b[0;34m=\u001b[0m \u001b[0msearchWord\u001b[0m\u001b[0;34m(\u001b[0m\u001b[0mcutChr\u001b[0m\u001b[0;34m,\u001b[0m \u001b[0mn\u001b[0m\u001b[0;34m,\u001b[0m \u001b[0mlen\u001b[0m\u001b[0;34m(\u001b[0m\u001b[0mreadSearch\u001b[0m\u001b[0;34m)\u001b[0m\u001b[0;34m,\u001b[0m \u001b[0mreadSearch\u001b[0m\u001b[0;34m)\u001b[0m\u001b[0;34m\u001b[0m\u001b[0;34m\u001b[0m\u001b[0m\n\u001b[1;32m     27\u001b[0m         \u001b[0;32mif\u001b[0m \u001b[0mlen\u001b[0m\u001b[0;34m(\u001b[0m\u001b[0mfound\u001b[0m\u001b[0;34m)\u001b[0m \u001b[0;34m!=\u001b[0m\u001b[0;36m0\u001b[0m \u001b[0;34m:\u001b[0m\u001b[0;34m\u001b[0m\u001b[0;34m\u001b[0m\u001b[0m\n",
      "\u001b[0;31mNameError\u001b[0m: name 'wholeGenomeCutted' is not defined"
     ]
    }
   ],
   "source": [
    "n = int(1e4)\n",
    "nMap = 1\n",
    "i = 0\n",
    "for mapp in allMap:\n",
    "    print(mapp.qname)\n",
    "\n",
    "    i += 1\n",
    "    \n",
    "        \n",
    "    print(mapp.pos)\n",
    "    # on va chercher la lecture correspondante \n",
    "    for j in range(len(reads)):\n",
    "        if reads[j].id == mapp.qname:\n",
    "            jSearch = j\n",
    "            readSearch = reads[j].seq\n",
    "            break\n",
    "            \n",
    "    print('Read n°',j) \n",
    "    print(reads[jSearch].id)\n",
    "    foundRead = []\n",
    "    \n",
    "    # On vas rechercher le read dans le génome complet\n",
    "    for k in range(len(Genome)):\n",
    "        print('Chr',k)\n",
    "        cutChr = wholeGenomeCutted[k]\n",
    "        found = searchWord(cutChr, n, len(readSearch), readSearch)\n",
    "        if len(found) !=0 :\n",
    "            print(found)\n",
    "            foundRead.append((k,found))\n",
    "            break\n",
    "    if i>=nMap:\n",
    "        break\n",
    "        "
   ]
  },
  {
   "cell_type": "code",
   "execution_count": null,
   "metadata": {},
   "outputs": [],
   "source": [
    "print(mapp.qname)\n",
    "print(reads[jSearch]))\n",
    "print(foundRead)\n",
    "print(mapp)\n",
    "print(allMap_it)"
   ]
  }
 ],
 "metadata": {
  "kernelspec": {
   "display_name": "Python 3",
   "language": "python",
   "name": "python3"
  },
  "language_info": {
   "codemirror_mode": {
    "name": "ipython",
    "version": 3
   },
   "file_extension": ".py",
   "mimetype": "text/x-python",
   "name": "python",
   "nbconvert_exporter": "python",
   "pygments_lexer": "ipython3",
   "version": "3.8.10"
  }
 },
 "nbformat": 4,
 "nbformat_minor": 4
}
