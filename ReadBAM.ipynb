{
 "cells": [
  {
   "cell_type": "code",
   "execution_count": 1,
   "metadata": {},
   "outputs": [
    {
     "name": "stdout",
     "output_type": "stream",
     "text": [
      "Requirement already satisfied: pysam in /home/ian/anaconda3/lib/python3.8/site-packages (0.17.0)\r\n"
     ]
    }
   ],
   "source": [
    "#!pip install pysam"
   ]
  },
  {
   "cell_type": "code",
   "execution_count": 1,
   "metadata": {},
   "outputs": [],
   "source": [
    "import pysam\n",
    "from Bio import SeqIO \n",
    "from Bio.Seq import Seq\n",
    "from Bio.SeqRecord import SeqRecord"
   ]
  },
  {
   "cell_type": "markdown",
   "metadata": {},
   "source": [
    "Ouverture du fichier contenant les reads"
   ]
  },
  {
   "cell_type": "code",
   "execution_count": 2,
   "metadata": {},
   "outputs": [],
   "source": [
    "reads = list(SeqIO.parse('single_Pfal_dat.fq','fastq'))"
   ]
  },
  {
   "cell_type": "markdown",
   "metadata": {},
   "source": [
    "Ouverture du fichier BAM"
   ]
  },
  {
   "cell_type": "code",
   "execution_count": 14,
   "metadata": {},
   "outputs": [],
   "source": [
    "samfile = pysam.AlignmentFile('./single_Pfal_dat.bam', 'rb')\n",
    "iter = samfile.fetch(until_eof=True)"
   ]
  },
  {
   "cell_type": "markdown",
   "metadata": {},
   "source": [
    "Premier objet du fichier"
   ]
  },
  {
   "cell_type": "code",
   "execution_count": 15,
   "metadata": {},
   "outputs": [],
   "source": [
    "for x in iter:\n",
    "    firstMapp = x\n",
    "    break"
   ]
  },
  {
   "cell_type": "markdown",
   "metadata": {},
   "source": [
    "Correspond au read :"
   ]
  },
  {
   "cell_type": "code",
   "execution_count": 16,
   "metadata": {},
   "outputs": [
    {
     "data": {
      "text/plain": [
       "'NC_004325.2-100000'"
      ]
     },
     "execution_count": 16,
     "metadata": {},
     "output_type": "execute_result"
    }
   ],
   "source": [
    "firstMapp.qname"
   ]
  },
  {
   "cell_type": "markdown",
   "metadata": {},
   "source": [
    "On cherche le read avec l'id correspondant :"
   ]
  },
  {
   "cell_type": "code",
   "execution_count": 17,
   "metadata": {},
   "outputs": [
    {
     "name": "stdout",
     "output_type": "stream",
     "text": [
      "0\n"
     ]
    }
   ],
   "source": [
    "for i in range(len(reads)):\n",
    "    if reads[i].id == firstMapp.qname:\n",
    "        readInt = reads[i]\n",
    "        print(i)\n",
    "        break"
   ]
  },
  {
   "cell_type": "code",
   "execution_count": 18,
   "metadata": {},
   "outputs": [
    {
     "data": {
      "text/plain": [
       "SeqRecord(seq=Seq('TTTCCTTTTTAAGCGTTTTATTTTTTAATAAAAAAAATATAGTATTATATAGTA...TAA'), id='NC_004325.2-100000', name='NC_004325.2-100000', description='NC_004325.2-100000', dbxrefs=[])"
      ]
     },
     "execution_count": 18,
     "metadata": {},
     "output_type": "execute_result"
    }
   ],
   "source": [
    "readInt"
   ]
  },
  {
   "cell_type": "code",
   "execution_count": 19,
   "metadata": {
    "scrolled": true
   },
   "outputs": [
    {
     "name": "stdout",
     "output_type": "stream",
     "text": [
      "NC_004325.2-100000\t16\t#0\t131735\t99\t80=1X19=\t*\t0\t0\tTTAATATATTCCTCATATATTTATTTATATGGATCTTTTCACCCGTTACTATATAATACTATATTTTTTTTATTAAAAAATAAAACGCTTAAAAAGGAAA\tarray('B', [32, 35, 35, 5, 35, 34, 32, 33, 35, 36, 35, 35, 35, 35, 35, 26, 35, 34, 35, 32, 33, 32, 37, 33, 33, 35, 37, 20, 41, 36, 35, 37, 35, 32, 33, 40, 30, 33, 35, 40, 36, 33, 40, 34, 36, 41, 40, 29, 26, 40, 34, 41, 40, 38, 41, 41, 41, 41, 40, 39, 39, 37, 38, 40, 40, 41, 41, 41, 40, 40, 41, 40, 41, 41, 41, 27, 41, 36, 23, 40, 7, 41, 40, 10, 41, 39, 41, 39, 39, 35, 31, 37, 37, 29, 15, 35, 37, 34, 31, 31])\t[]\n"
     ]
    }
   ],
   "source": [
    "print(firstMapp)"
   ]
  },
  {
   "cell_type": "markdown",
   "metadata": {},
   "source": [
    "## SAM files fields"
   ]
  },
  {
   "cell_type": "markdown",
   "metadata": {},
   "source": [
    "### Query Name - QNAME\n",
    "Identifier that is unique to the read within the file and can be used to identify any individual read. "
   ]
  },
  {
   "cell_type": "code",
   "execution_count": 20,
   "metadata": {},
   "outputs": [
    {
     "data": {
      "text/plain": [
       "'NC_004325.2-100000'"
      ]
     },
     "execution_count": 20,
     "metadata": {},
     "output_type": "execute_result"
    }
   ],
   "source": [
    "firstMapp.qname"
   ]
  },
  {
   "cell_type": "markdown",
   "metadata": {},
   "source": [
    "### FLAG\n",
    "Also sometimes called a flag score (a slight misnomer) is a decimal (base-10) number used to represent a binary (base-2) number with digits that represent different true/false statements pertaining to the alignment of the read. A value of zero indicates false while one indicates true.\n",
    "\n",
    "|Decimal|    Binary    |  Exp.  |Meaning|\n",
    "|------:|-------------:|-------:|:------|\n",
    "|    $1$|           $1$| $2^{0}$|This is a paired read |\n",
    "|    $2$|          $10$| $2^{1}$| This read is part of a pair that aligned properly*   |\n",
    "|    $4$|         $100$| $2^{2}$| This read was not aligned |\n",
    "|    $8$|        $1000$| $2^{3}$|This read is part of a pair and its mate was not aligned|\n",
    "|   $16$|       $10000$| $2^{4}$|This read aligned in the reverse direction**|\n",
    "|   $32$|      $100000$| $2^{5}$|This read is part of a pair and its mate aligned in the reverse direction**|\n",
    "|   $64$|     $1000000$| $2^{6}$|This read is the first in the pair (read 1)|\n",
    "|  $128$|    $10000000$| $2^{7}$|This read is the second in pair (read 2)|\n",
    "|  $256$|   $100000000$| $2^{8}$|The given alignment is a secondary alignment***|\n",
    "|  $512$|  $1000000000$| $2^{9}$|Read failed quality check (such as Illumina quality filtering)|\n",
    "| $1024$| $10000000000$|$2^{10}$|Read was flagged as a duplicate (such as a PCR duplicate)|\n",
    "| $2048$|$100000000000$|$2^{11}$|Supplementary alignment (Exact meaning varies by aligner)|\n",
    "\n",
    "\n",
    "`*` Proper alignment indicates both reads in a pair are oriented towards one another (one forward, one reverse), are both on the same contig, and are within the expected distance from one another.\n",
    "\n",
    "`**` Direction is relative to the reference sequence used for alignment\n",
    "\n",
    "`***` The read had multiple potential alignments; this was one of them, but not the first choice from among them\n",
    "\n",
    "Exemple : $99 = 64+32+2+1$"
   ]
  },
  {
   "cell_type": "code",
   "execution_count": 21,
   "metadata": {},
   "outputs": [
    {
     "data": {
      "text/plain": [
       "16"
      ]
     },
     "execution_count": 21,
     "metadata": {},
     "output_type": "execute_result"
    }
   ],
   "source": [
    "firstMapp.flag"
   ]
  },
  {
   "cell_type": "markdown",
   "metadata": {},
   "source": [
    "### Reference Name - RNAME\n",
    "Identifies which contig within the reference genome where the read was aligned."
   ]
  },
  {
   "cell_type": "code",
   "execution_count": 23,
   "metadata": {},
   "outputs": [
    {
     "data": {
      "text/plain": [
       "0"
      ]
     },
     "execution_count": 23,
     "metadata": {},
     "output_type": "execute_result"
    }
   ],
   "source": [
    "firstMapp.rname"
   ]
  },
  {
   "cell_type": "markdown",
   "metadata": {},
   "source": [
    "### Position - POS\n",
    "Indicates the leftmost mapping position of the first matching base within the read."
   ]
  },
  {
   "cell_type": "code",
   "execution_count": 26,
   "metadata": {},
   "outputs": [
    {
     "data": {
      "text/plain": [
       "131734"
      ]
     },
     "execution_count": 26,
     "metadata": {},
     "output_type": "execute_result"
    }
   ],
   "source": [
    "firstMapp.pos"
   ]
  },
  {
   "cell_type": "markdown",
   "metadata": {},
   "source": [
    "### Mapping Quality - MAPQ\n",
    "Phred-scaled confidence score indicating likelihood that the sequence was mapped correctly or incorrectly. A value of 255 for this field indicates that no probability is given and is considered a placeholder value."
   ]
  },
  {
   "cell_type": "code",
   "execution_count": 29,
   "metadata": {},
   "outputs": [
    {
     "data": {
      "text/plain": [
       "99"
      ]
     },
     "execution_count": 29,
     "metadata": {},
     "output_type": "execute_result"
    }
   ],
   "source": [
    "firstMapp.mapq"
   ]
  },
  {
   "cell_type": "markdown",
   "metadata": {},
   "source": [
    "### CIGAR - concise idiosyncratic gapped alignment report string \n",
    "Sequence of numbers and letters (in that order) indicating continuities or discontinuities in the alignment caused by inserted or deleted bases (or other causes for discontinuity).\n",
    "\n",
    "| Op.| Description |\n",
    "|:--:|:------------|\n",
    "|M   | Match (alignment column containing two letters). This could contain two different letters (mismatch) or two identical letters. USEARCH generates CIGAR strings containing Ms rather than X's and ='s (see below).|\n",
    "|D   | Deletion (gap in the target sequence).|\n",
    "|I   | Insertion (gap in the query sequence). |\n",
    "|S   | Segment of the query sequence that does not appear in the alignment. This is used with soft clipping, where the full-length query sequence is given (field 10 in the SAM record). In this case, S operations specify segments at the start and/or end of the query that do not appear in a local alignment.|\n",
    "|H   | Segment of the query sequence that does not appear in the alignment. This is used with hard clipping, where only the aligned segment of the query sequences is given (field 10 in the SAM record). In this case, H operations specify segments at the start and/or end of the query that do not appear in the SAM record.|\n",
    "|=   | Alignment column containing two identical letters.|\n",
    "|X   | Alignment column containing a mismatch, i.e. two different letters. |\n",
    "\n",
    "*Source : https://www.drive5.com/usearch/manual/cigar.html*"
   ]
  },
  {
   "cell_type": "code",
   "execution_count": 31,
   "metadata": {},
   "outputs": [
    {
     "data": {
      "text/plain": [
       "'80=1X19='"
      ]
     },
     "execution_count": 31,
     "metadata": {},
     "output_type": "execute_result"
    }
   ],
   "source": [
    "firstMapp.cigarstring"
   ]
  },
  {
   "cell_type": "markdown",
   "metadata": {},
   "source": [
    "### Reference Name for Mate - RNEXT \n",
    "Analogous to field 3 (Reference Name) and follows the same rules, except that it describes the paired-end mate of the read (if there is one). To save space, this value will be “=” if it is identical to the Reference Name value, which should be the case most often."
   ]
  },
  {
   "cell_type": "code",
   "execution_count": 32,
   "metadata": {},
   "outputs": [
    {
     "data": {
      "text/plain": [
       "-1"
      ]
     },
     "execution_count": 32,
     "metadata": {},
     "output_type": "execute_result"
    }
   ],
   "source": [
    "firstMapp.rnext"
   ]
  },
  {
   "cell_type": "markdown",
   "metadata": {},
   "source": [
    "### Position of Mate - PNEXT \n",
    "Analogous to field 4 (Position) and follows the same rules as that field."
   ]
  },
  {
   "cell_type": "code",
   "execution_count": 33,
   "metadata": {},
   "outputs": [
    {
     "data": {
      "text/plain": [
       "-1"
      ]
     },
     "execution_count": 33,
     "metadata": {},
     "output_type": "execute_result"
    }
   ],
   "source": [
    "firstMapp.pnext"
   ]
  },
  {
   "cell_type": "markdown",
   "metadata": {},
   "source": [
    "### Template Length - TLEN \n",
    "Indicates the length of template sequence to which the read maps (this field is sometimes confused for the read length, which it is not, but will often be equal to in value). A read with multiple insertions may have a smaller template length than the read length, while a read with multiple deletions may have a template length longer than the read length. In the case of RNA or cDNA being aligned to genomic DNA reference, template length may be in the tens of thousands of bases for a short read due to the presence of an intron."
   ]
  },
  {
   "cell_type": "code",
   "execution_count": 34,
   "metadata": {},
   "outputs": [
    {
     "data": {
      "text/plain": [
       "0"
      ]
     },
     "execution_count": 34,
     "metadata": {},
     "output_type": "execute_result"
    }
   ],
   "source": [
    "firstMapp.tlen"
   ]
  },
  {
   "cell_type": "markdown",
   "metadata": {},
   "source": [
    "### Sequence - SEQ \n",
    "Actual read sequence. Should generally follow the sequence line from the source FASTQ"
   ]
  },
  {
   "cell_type": "code",
   "execution_count": 35,
   "metadata": {},
   "outputs": [
    {
     "data": {
      "text/plain": [
       "'TTAATATATTCCTCATATATTTATTTATATGGATCTTTTCACCCGTTACTATATAATACTATATTTTTTTTATTAAAAAATAAAACGCTTAAAAAGGAAA'"
      ]
     },
     "execution_count": 35,
     "metadata": {},
     "output_type": "execute_result"
    }
   ],
   "source": [
    "firstMapp.seq"
   ]
  },
  {
   "cell_type": "markdown",
   "metadata": {},
   "source": [
    "### Quality String - Qual \n",
    "Should generally follow the quality string from the source FASTQ file and be Phred-scaled."
   ]
  },
  {
   "cell_type": "code",
   "execution_count": 36,
   "metadata": {},
   "outputs": [
    {
     "data": {
      "text/plain": [
       "'ADD&DCABDEDDDDD;DCDABAFBBDF5JEDFDABI?BDIEBICEJI>;ICJIGJJJJIHHFGIIJJJIIJIJJJ<JE8I(JI+JHJHHD@FF>0DFC@@'"
      ]
     },
     "execution_count": 36,
     "metadata": {},
     "output_type": "execute_result"
    }
   ],
   "source": [
    "firstMapp.qual"
   ]
  },
  {
   "cell_type": "markdown",
   "metadata": {},
   "source": [
    "###  Predefined Tags\n",
    "These will be encoded tags that are predefined in the SAM/BAM file standard that give additional information on the alignment or read.\n",
    "\n",
    "*Source : https://www.zymoresearch.com/blogs/blog/what-are-sam-and-bam-files*"
   ]
  }
 ],
 "metadata": {
  "kernelspec": {
   "display_name": "Python 3",
   "language": "python",
   "name": "python3"
  },
  "language_info": {
   "codemirror_mode": {
    "name": "ipython",
    "version": 3
   },
   "file_extension": ".py",
   "mimetype": "text/x-python",
   "name": "python",
   "nbconvert_exporter": "python",
   "pygments_lexer": "ipython3",
   "version": "3.8.3"
  }
 },
 "nbformat": 4,
 "nbformat_minor": 4
}
